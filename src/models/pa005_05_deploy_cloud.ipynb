{
  "cells": [
    {
      "cell_type": "markdown",
      "metadata": {
        "id": "Wy0DFfIjVIhZ"
      },
      "source": [
        "## i. BUSINESS JOB DESCRIPTION\n",
        "\n",
        "*   Our client is an e-commerce company (_All in one Place_), a multibrand outlet. It profits comes from reseling large quantities of various products by offering low tag prices.\n",
        "\n",
        "*   After collecting data from their clients database during the period of 1 year, the company's marketing team is analyzing wheter it would be profitable or not to separate it into distinct groups, in order to distinguish those who represent a larger ammount of the company's earnings.\n",
        "\n",
        "*   The intended group of interest obtained from this clustering analysis will then be called 'Insiders', and will be targeted as eligible clients to win special fidelity programs opportunities.\n",
        "\n",
        "## ii. THE CHALLENGE\n",
        "\n",
        "*   I was hired as a Data Scientist consultant, in order to build a model capable of performing such clustering with great accuracy.\n",
        "\n",
        "*   With the solution, the marketing team can acordingly plan how to target groups of clients in order to optimize profits.\n",
        "\n",
        "*   In order to understand client's behaviour, we have a database containing information about sales transactions, specifying the products that were bought, their description, quantity, unit price as well as general information about client's physical location (Customer ID, country).\n",
        "\n",
        "## iii. BUSINESS QUESTIONS\n",
        "\n",
        "*   It is expected a report as the result of the clsutering analysis, which answers the following questions:\n",
        "\n",
        "    1.  Which clients are eligible  to take part on the 'Insiders' group ?\n",
        "    \n",
        "    2.  How many clients will be selected?\n",
        "\n",
        "    3.  What are the main features that impacts more the clustering analysis from said clients?\n",
        "\n",
        "    4.  What is the 'Insiders' group percentage upon the company's total earnings?\n",
        "    \n",
        "    5.  What is the expected profit from the 'Insiders' group for the next months?\n",
        "\n",
        "    6.  What are the main conditions that make one eligible for being on 'Insiders'?\n",
        "\n",
        "    7.  What are the conditions for one to be excluded from 'Insiders'?\n",
        "\n",
        "    8.  What guarantees that 'Insiders' group grants more profits to the company compared to the rest of the database?\n",
        "\n",
        "    9.  Which actions the marketing team can partake to increase profits?\n"
      ]
    },
    {
      "cell_type": "markdown",
      "metadata": {
        "id": "Dh33XZ7kVIhe"
      },
      "source": [
        "# 0.0 IMPORTS, FUNCTIONS AND DATABASE LOAD"
      ]
    },
    {
      "cell_type": "markdown",
      "metadata": {
        "id": "OXER-8FBVIhf"
      },
      "source": [
        "## 0.1 Imports"
      ]
    },
    {
      "cell_type": "code",
      "execution_count": 1,
      "metadata": {
        "id": "NpGXGrO5VIhf"
      },
      "outputs": [],
      "source": [
        "import pandas       as pd\n",
        "import numpy        as np\n",
        "import seaborn      as sns\n",
        "import umap.umap_   as umap\n",
        "import psycopg2\n",
        "import s3fs\n",
        "import pickle\n",
        "import ipywidgets\n",
        "import inflection\n",
        "import warnings\n",
        "import os\n",
        "\n",
        "from matplotlib         import pyplot as plt\n",
        "from collections        import Counter\n",
        "from ydata_profiling    import ProfileReport\n",
        "from pandasql           import sqldf\n",
        "\n",
        "from sklearn.preprocessing      import MinMaxScaler, StandardScaler, RobustScaler\n",
        "from sklearn.decomposition      import PCA\n",
        "from sklearn.manifold           import TSNE\n",
        "from sklearn.mixture            import GaussianMixture\n",
        "from sklearn.ensemble           import RandomForestRegressor, ExtraTreesClassifier\n",
        "from sklearn.cluster            import KMeans, DBSCAN\n",
        "from sklearn.neighbors          import NearestNeighbors\n",
        "from sklearn.metrics            import silhouette_score, silhouette_samples\n",
        "\n",
        "from scipy.cluster.hierarchy    import linkage, dendrogram, fcluster\n",
        "from scipy.spatial.distance     import pdist, squareform\n",
        "\n",
        "from plotly                     import express as px\n",
        "\n",
        "from sqlalchemy import create_engine, text\n",
        "\n",
        "from IPython.core.display import HTML\n",
        "from IPython.display      import Image"
      ]
    },
    {
      "cell_type": "markdown",
      "metadata": {
        "id": "RHPq7NtIVIhi"
      },
      "source": [
        "## 0.2 Helper Functions"
      ]
    },
    {
      "cell_type": "code",
      "execution_count": 2,
      "metadata": {
        "id": "hPCwyyMbVIhi"
      },
      "outputs": [],
      "source": [
        "warnings.filterwarnings ('ignore')\n",
        "\n",
        "def jupyter_settings():\n",
        "    %matplotlib inline\n",
        "    %pylab inline\n",
        "\n",
        "    plt.style.use( 'bmh' )\n",
        "    plt.rcParams['figure.figsize'] = [25, 12]\n",
        "    plt.rcParams['font.size'] = 24\n",
        "\n",
        "    display( HTML( '<style>.container { width:90% !important; }</style>') )\n",
        "    pd.options.display.max_columns = None\n",
        "    pd.options.display.max_rows = None\n",
        "    pd.set_option( 'display.expand_frame_repr', False )\n",
        "\n",
        "    sns.set()"
      ]
    },
    {
      "cell_type": "code",
      "execution_count": 3,
      "metadata": {
        "colab": {
          "base_uri": "https://localhost:8080/",
          "height": 35
        },
        "id": "XZhmRF8BVIhi",
        "outputId": "1f3b7383-704a-44ac-a769-59f81165bec9"
      },
      "outputs": [
        {
          "name": "stdout",
          "output_type": "stream",
          "text": [
            "%pylab is deprecated, use %matplotlib inline and import the required libraries.\n",
            "Populating the interactive namespace from numpy and matplotlib\n"
          ]
        },
        {
          "data": {
            "text/html": [
              "<style>.container { width:90% !important; }</style>"
            ],
            "text/plain": [
              "<IPython.core.display.HTML object>"
            ]
          },
          "metadata": {},
          "output_type": "display_data"
        }
      ],
      "source": [
        "jupyter_settings()"
      ]
    },
    {
      "cell_type": "markdown",
      "metadata": {
        "id": "XPi8gMADVIhj"
      },
      "source": [
        "## 0.3 Database load"
      ]
    },
    {
      "cell_type": "code",
      "execution_count": 4,
      "metadata": {
        "id": "JSFREUEyVIhk"
      },
      "outputs": [
        {
          "data": {
            "text/html": [
              "<div>\n",
              "<style scoped>\n",
              "    .dataframe tbody tr th:only-of-type {\n",
              "        vertical-align: middle;\n",
              "    }\n",
              "\n",
              "    .dataframe tbody tr th {\n",
              "        vertical-align: top;\n",
              "    }\n",
              "\n",
              "    .dataframe thead th {\n",
              "        text-align: right;\n",
              "    }\n",
              "</style>\n",
              "<table border=\"1\" class=\"dataframe\">\n",
              "  <thead>\n",
              "    <tr style=\"text-align: right;\">\n",
              "      <th></th>\n",
              "      <th>InvoiceNo</th>\n",
              "      <th>StockCode</th>\n",
              "      <th>Description</th>\n",
              "      <th>Quantity</th>\n",
              "      <th>InvoiceDate</th>\n",
              "      <th>UnitPrice</th>\n",
              "      <th>CustomerID</th>\n",
              "      <th>Country</th>\n",
              "      <th>Unnamed: 8</th>\n",
              "    </tr>\n",
              "  </thead>\n",
              "  <tbody>\n",
              "    <tr>\n",
              "      <th>0</th>\n",
              "      <td>536365</td>\n",
              "      <td>85123A</td>\n",
              "      <td>WHITE HANGING HEART T-LIGHT HOLDER</td>\n",
              "      <td>6</td>\n",
              "      <td>29-Nov-16</td>\n",
              "      <td>2.55</td>\n",
              "      <td>17850.0</td>\n",
              "      <td>United Kingdom</td>\n",
              "      <td>NaN</td>\n",
              "    </tr>\n",
              "    <tr>\n",
              "      <th>1</th>\n",
              "      <td>536365</td>\n",
              "      <td>71053</td>\n",
              "      <td>WHITE METAL LANTERN</td>\n",
              "      <td>6</td>\n",
              "      <td>29-Nov-16</td>\n",
              "      <td>3.39</td>\n",
              "      <td>17850.0</td>\n",
              "      <td>United Kingdom</td>\n",
              "      <td>NaN</td>\n",
              "    </tr>\n",
              "    <tr>\n",
              "      <th>2</th>\n",
              "      <td>536365</td>\n",
              "      <td>84406B</td>\n",
              "      <td>CREAM CUPID HEARTS COAT HANGER</td>\n",
              "      <td>8</td>\n",
              "      <td>29-Nov-16</td>\n",
              "      <td>2.75</td>\n",
              "      <td>17850.0</td>\n",
              "      <td>United Kingdom</td>\n",
              "      <td>NaN</td>\n",
              "    </tr>\n",
              "    <tr>\n",
              "      <th>3</th>\n",
              "      <td>536365</td>\n",
              "      <td>84029G</td>\n",
              "      <td>KNITTED UNION FLAG HOT WATER BOTTLE</td>\n",
              "      <td>6</td>\n",
              "      <td>29-Nov-16</td>\n",
              "      <td>3.39</td>\n",
              "      <td>17850.0</td>\n",
              "      <td>United Kingdom</td>\n",
              "      <td>NaN</td>\n",
              "    </tr>\n",
              "    <tr>\n",
              "      <th>4</th>\n",
              "      <td>536365</td>\n",
              "      <td>84029E</td>\n",
              "      <td>RED WOOLLY HOTTIE WHITE HEART.</td>\n",
              "      <td>6</td>\n",
              "      <td>29-Nov-16</td>\n",
              "      <td>3.39</td>\n",
              "      <td>17850.0</td>\n",
              "      <td>United Kingdom</td>\n",
              "      <td>NaN</td>\n",
              "    </tr>\n",
              "  </tbody>\n",
              "</table>\n",
              "</div>"
            ],
            "text/plain": [
              "  InvoiceNo StockCode                          Description  Quantity InvoiceDate  UnitPrice  CustomerID         Country  Unnamed: 8\n",
              "0    536365    85123A   WHITE HANGING HEART T-LIGHT HOLDER         6   29-Nov-16       2.55     17850.0  United Kingdom         NaN\n",
              "1    536365     71053                  WHITE METAL LANTERN         6   29-Nov-16       3.39     17850.0  United Kingdom         NaN\n",
              "2    536365    84406B       CREAM CUPID HEARTS COAT HANGER         8   29-Nov-16       2.75     17850.0  United Kingdom         NaN\n",
              "3    536365    84029G  KNITTED UNION FLAG HOT WATER BOTTLE         6   29-Nov-16       3.39     17850.0  United Kingdom         NaN\n",
              "4    536365    84029E       RED WOOLLY HOTTIE WHITE HEART.         6   29-Nov-16       3.39     17850.0  United Kingdom         NaN"
            ]
          },
          "execution_count": 4,
          "metadata": {},
          "output_type": "execute_result"
        }
      ],
      "source": [
        "path_local = '/home/valquiriaam/repos/PA005/'\n",
        "path_s3 = 's3://insiders-dataset-pa005/'\n",
        "\n",
        "df_raw = pd.read_csv(path_s3+'ecommerce.csv', encoding='unicode_escape')\n",
        "df_raw.head()"
      ]
    },
    {
      "cell_type": "code",
      "execution_count": 5,
      "metadata": {
        "id": "UmZ5V6UCVIhk"
      },
      "outputs": [],
      "source": [
        "\n",
        "df1 = df_raw.copy()\n",
        "df1 = df1.drop(columns=['Unnamed: 8'])"
      ]
    },
    {
      "cell_type": "code",
      "execution_count": 6,
      "metadata": {
        "colab": {
          "base_uri": "https://localhost:8080/"
        },
        "id": "hjvKehqXVIhl",
        "outputId": "f65b0e56-91e9-4923-855f-00d15f71c47f"
      },
      "outputs": [
        {
          "name": "stdout",
          "output_type": "stream",
          "text": [
            "Number of Rows: 541909\n",
            "Number of Columns: 8\n"
          ]
        }
      ],
      "source": [
        "print(f'Number of Rows: {df1.shape[0]}')\n",
        "print(f'Number of Columns: {df1.shape[1]}')"
      ]
    },
    {
      "cell_type": "markdown",
      "metadata": {
        "id": "ePOaZ3TjVIhl"
      },
      "source": [
        "# 1.0 DATA DESCRIPTION"
      ]
    },
    {
      "cell_type": "markdown",
      "metadata": {
        "id": "Gi1vukbvVIhl"
      },
      "source": [
        "### 1.3.1 General Description"
      ]
    },
    {
      "cell_type": "code",
      "execution_count": 7,
      "metadata": {
        "id": "LakpX6qfVIhm"
      },
      "outputs": [],
      "source": [
        "#df1_profile = ProfileReport(df1, title='Profile Report')\n",
        "#df1_profile"
      ]
    },
    {
      "cell_type": "code",
      "execution_count": 8,
      "metadata": {
        "id": "hERoU29t2_FU"
      },
      "outputs": [],
      "source": [
        "#df1_profile.to_file('raw_dataset_profile.html')"
      ]
    },
    {
      "cell_type": "markdown",
      "metadata": {
        "id": "fqpTiTBUVIhm"
      },
      "source": [
        "### 1.3.2 Data Typification"
      ]
    },
    {
      "cell_type": "markdown",
      "metadata": {
        "id": "ewJgdqSPVIhm"
      },
      "source": [
        "*   InvoiceNo: Unique Transaction ID\n",
        "\n",
        "*   StockCode: Item's ID code\n",
        "\n",
        "*   Description: Item's name\n",
        "\n",
        "*   Quantity: Quantity of product bought\n",
        "\n",
        "*   InvoiceDate: Transaction's occurance date\n",
        "\n",
        "*   UnitPrice:  Product's price per unit\n",
        "\n",
        "*   CustomerID: Customer's ID code\n",
        "\n",
        "*   Country: Customer's Country"
      ]
    },
    {
      "cell_type": "code",
      "execution_count": 9,
      "metadata": {
        "colab": {
          "base_uri": "https://localhost:8080/"
        },
        "id": "aajKpP2zVIhm",
        "outputId": "916d352d-b7ad-426f-b96d-0e36be67ee0e"
      },
      "outputs": [
        {
          "name": "stdout",
          "output_type": "stream",
          "text": [
            "<class 'pandas.core.frame.DataFrame'>\n",
            "RangeIndex: 541909 entries, 0 to 541908\n",
            "Data columns (total 8 columns):\n",
            " #   Column       Non-Null Count   Dtype  \n",
            "---  ------       --------------   -----  \n",
            " 0   InvoiceNo    541909 non-null  object \n",
            " 1   StockCode    541909 non-null  object \n",
            " 2   Description  540455 non-null  object \n",
            " 3   Quantity     541909 non-null  int64  \n",
            " 4   InvoiceDate  541909 non-null  object \n",
            " 5   UnitPrice    541909 non-null  float64\n",
            " 6   CustomerID   406829 non-null  float64\n",
            " 7   Country      541909 non-null  object \n",
            "dtypes: float64(2), int64(1), object(5)\n",
            "memory usage: 33.1+ MB\n"
          ]
        }
      ],
      "source": [
        "df1.info()"
      ]
    },
    {
      "cell_type": "code",
      "execution_count": 10,
      "metadata": {
        "colab": {
          "base_uri": "https://localhost:8080/"
        },
        "id": "EOiar4MFVIhn",
        "outputId": "7480e6ee-c66f-4865-8423-46862815c452"
      },
      "outputs": [
        {
          "data": {
            "text/plain": [
              "Index(['invoice_no', 'stock_code', 'description', 'quantity', 'invoice_date',\n",
              "       'unit_price', 'customer_id', 'country'],\n",
              "      dtype='object')"
            ]
          },
          "execution_count": 10,
          "metadata": {},
          "output_type": "execute_result"
        }
      ],
      "source": [
        "cols_old = ['InvoiceNo', 'StockCode', 'Description', 'Quantity', 'InvoiceDate',\n",
        "       'UnitPrice', 'CustomerID', 'Country']\n",
        "snakecase = lambda x: inflection.underscore(x)\n",
        "cols_new = list(map(snakecase, cols_old))\n",
        "\n",
        "df1.columns = cols_new\n",
        "df1.columns"
      ]
    },
    {
      "cell_type": "code",
      "execution_count": 11,
      "metadata": {
        "colab": {
          "base_uri": "https://localhost:8080/"
        },
        "id": "blL-xZfufyJr",
        "outputId": "3ac80c20-d93b-47d3-8786-61def17b15d6"
      },
      "outputs": [
        {
          "data": {
            "text/plain": [
              "invoice_no              object\n",
              "stock_code              object\n",
              "description             object\n",
              "quantity                 int64\n",
              "invoice_date    datetime64[ns]\n",
              "unit_price             float64\n",
              "customer_id            float64\n",
              "country                 object\n",
              "dtype: object"
            ]
          },
          "execution_count": 11,
          "metadata": {},
          "output_type": "execute_result"
        }
      ],
      "source": [
        "df1['invoice_date'] = pd.to_datetime(df1['invoice_date'])\n",
        "\n",
        "df1.dtypes"
      ]
    },
    {
      "cell_type": "markdown",
      "metadata": {
        "id": "-oUpRoM4VIhn"
      },
      "source": [
        "### 1.3.3 Missing Data Treatment"
      ]
    },
    {
      "cell_type": "code",
      "execution_count": 12,
      "metadata": {
        "colab": {
          "base_uri": "https://localhost:8080/"
        },
        "id": "MUNyGaEzVIhn",
        "outputId": "f06fc908-8fdf-4c3e-8ba7-42aaecfaf65c"
      },
      "outputs": [
        {
          "data": {
            "text/plain": [
              "invoice_no           0\n",
              "stock_code           0\n",
              "description       1454\n",
              "quantity             0\n",
              "invoice_date         0\n",
              "unit_price           0\n",
              "customer_id     135080\n",
              "country              0\n",
              "dtype: int64"
            ]
          },
          "execution_count": 12,
          "metadata": {},
          "output_type": "execute_result"
        }
      ],
      "source": [
        "df1.isna().sum()"
      ]
    },
    {
      "cell_type": "code",
      "execution_count": 13,
      "metadata": {
        "colab": {
          "base_uri": "https://localhost:8080/",
          "height": 53
        },
        "id": "9hnOQFzydObU",
        "outputId": "dc3e6166-45ae-4b97-bf37-64bbae5f93ff"
      },
      "outputs": [
        {
          "data": {
            "text/html": [
              "<div>\n",
              "<style scoped>\n",
              "    .dataframe tbody tr th:only-of-type {\n",
              "        vertical-align: middle;\n",
              "    }\n",
              "\n",
              "    .dataframe tbody tr th {\n",
              "        vertical-align: top;\n",
              "    }\n",
              "\n",
              "    .dataframe thead th {\n",
              "        text-align: right;\n",
              "    }\n",
              "</style>\n",
              "<table border=\"1\" class=\"dataframe\">\n",
              "  <thead>\n",
              "    <tr style=\"text-align: right;\">\n",
              "      <th></th>\n",
              "      <th>invoice_no</th>\n",
              "      <th>stock_code</th>\n",
              "      <th>description</th>\n",
              "      <th>quantity</th>\n",
              "      <th>invoice_date</th>\n",
              "      <th>unit_price</th>\n",
              "      <th>customer_id</th>\n",
              "      <th>country</th>\n",
              "    </tr>\n",
              "  </thead>\n",
              "  <tbody>\n",
              "  </tbody>\n",
              "</table>\n",
              "</div>"
            ],
            "text/plain": [
              "Empty DataFrame\n",
              "Columns: [invoice_no, stock_code, description, quantity, invoice_date, unit_price, customer_id, country]\n",
              "Index: []"
            ]
          },
          "execution_count": 13,
          "metadata": {},
          "output_type": "execute_result"
        }
      ],
      "source": [
        "df_missing = df1.loc[df1['customer_id'].isna(), :]\n",
        "df_complete = df1.loc[~df1['customer_id'].isna(), :]\n",
        "\n",
        "df_complete.loc[df_complete['invoice_no'].isin(df_missing['invoice_no']), :]"
      ]
    },
    {
      "cell_type": "markdown",
      "metadata": {
        "id": "_4XhysV7tJMm"
      },
      "source": [
        "*   No Matches for invoice_no entries for rows with customer_id = NaN."
      ]
    },
    {
      "cell_type": "code",
      "execution_count": 14,
      "metadata": {
        "colab": {
          "base_uri": "https://localhost:8080/"
        },
        "id": "P5cISWAotgNm",
        "outputId": "7916be8f-509c-468b-eae8-00d50db90d67"
      },
      "outputs": [
        {
          "data": {
            "text/plain": [
              "18287.0"
            ]
          },
          "execution_count": 14,
          "metadata": {},
          "output_type": "execute_result"
        }
      ],
      "source": [
        "df_complete['customer_id'].max()"
      ]
    },
    {
      "cell_type": "markdown",
      "metadata": {
        "id": "W7vWHv3YtyXs"
      },
      "source": [
        "*   Customer_id NaN values will be filled with values 19000 onwards, in order to maintain data information on our model."
      ]
    },
    {
      "cell_type": "code",
      "execution_count": 15,
      "metadata": {
        "id": "8q3E_MFVuens"
      },
      "outputs": [],
      "source": [
        "#Customer_id labeling\n",
        "df_backup = pd.DataFrame( df_missing['invoice_no'].drop_duplicates())\n",
        "df_backup['customer_id'] = np.arange(19000, 19000+len(df_backup), 1 )\n",
        "\n",
        "#merge into main dataframe\n",
        "df1 = pd.merge(df1, df_backup, how='left', on='invoice_no')\n",
        "\n",
        "#coalesce - combine first\n",
        "df1['customer_id'] = df1['customer_id_x'].combine_first(df1['customer_id_y'])\n",
        "df1 = df1.drop(columns=['customer_id_x', 'customer_id_y'], axis=1)"
      ]
    },
    {
      "cell_type": "code",
      "execution_count": 16,
      "metadata": {
        "colab": {
          "base_uri": "https://localhost:8080/",
          "height": 206
        },
        "id": "NkSiCAgHOANI",
        "outputId": "93333357-2df6-4408-bd05-a7a2cb211ce6"
      },
      "outputs": [
        {
          "data": {
            "text/html": [
              "<div>\n",
              "<style scoped>\n",
              "    .dataframe tbody tr th:only-of-type {\n",
              "        vertical-align: middle;\n",
              "    }\n",
              "\n",
              "    .dataframe tbody tr th {\n",
              "        vertical-align: top;\n",
              "    }\n",
              "\n",
              "    .dataframe thead th {\n",
              "        text-align: right;\n",
              "    }\n",
              "</style>\n",
              "<table border=\"1\" class=\"dataframe\">\n",
              "  <thead>\n",
              "    <tr style=\"text-align: right;\">\n",
              "      <th></th>\n",
              "      <th>invoice_no</th>\n",
              "      <th>stock_code</th>\n",
              "      <th>description</th>\n",
              "      <th>quantity</th>\n",
              "      <th>invoice_date</th>\n",
              "      <th>unit_price</th>\n",
              "      <th>country</th>\n",
              "      <th>customer_id</th>\n",
              "    </tr>\n",
              "  </thead>\n",
              "  <tbody>\n",
              "    <tr>\n",
              "      <th>0</th>\n",
              "      <td>536365</td>\n",
              "      <td>85123A</td>\n",
              "      <td>WHITE HANGING HEART T-LIGHT HOLDER</td>\n",
              "      <td>6</td>\n",
              "      <td>2016-11-29</td>\n",
              "      <td>2.55</td>\n",
              "      <td>United Kingdom</td>\n",
              "      <td>17850</td>\n",
              "    </tr>\n",
              "    <tr>\n",
              "      <th>1</th>\n",
              "      <td>536365</td>\n",
              "      <td>71053</td>\n",
              "      <td>WHITE METAL LANTERN</td>\n",
              "      <td>6</td>\n",
              "      <td>2016-11-29</td>\n",
              "      <td>3.39</td>\n",
              "      <td>United Kingdom</td>\n",
              "      <td>17850</td>\n",
              "    </tr>\n",
              "    <tr>\n",
              "      <th>2</th>\n",
              "      <td>536365</td>\n",
              "      <td>84406B</td>\n",
              "      <td>CREAM CUPID HEARTS COAT HANGER</td>\n",
              "      <td>8</td>\n",
              "      <td>2016-11-29</td>\n",
              "      <td>2.75</td>\n",
              "      <td>United Kingdom</td>\n",
              "      <td>17850</td>\n",
              "    </tr>\n",
              "    <tr>\n",
              "      <th>3</th>\n",
              "      <td>536365</td>\n",
              "      <td>84029G</td>\n",
              "      <td>KNITTED UNION FLAG HOT WATER BOTTLE</td>\n",
              "      <td>6</td>\n",
              "      <td>2016-11-29</td>\n",
              "      <td>3.39</td>\n",
              "      <td>United Kingdom</td>\n",
              "      <td>17850</td>\n",
              "    </tr>\n",
              "    <tr>\n",
              "      <th>4</th>\n",
              "      <td>536365</td>\n",
              "      <td>84029E</td>\n",
              "      <td>RED WOOLLY HOTTIE WHITE HEART.</td>\n",
              "      <td>6</td>\n",
              "      <td>2016-11-29</td>\n",
              "      <td>3.39</td>\n",
              "      <td>United Kingdom</td>\n",
              "      <td>17850</td>\n",
              "    </tr>\n",
              "  </tbody>\n",
              "</table>\n",
              "</div>"
            ],
            "text/plain": [
              "  invoice_no stock_code                          description  quantity invoice_date  unit_price         country  customer_id\n",
              "0     536365     85123A   WHITE HANGING HEART T-LIGHT HOLDER         6   2016-11-29        2.55  United Kingdom        17850\n",
              "1     536365      71053                  WHITE METAL LANTERN         6   2016-11-29        3.39  United Kingdom        17850\n",
              "2     536365     84406B       CREAM CUPID HEARTS COAT HANGER         8   2016-11-29        2.75  United Kingdom        17850\n",
              "3     536365     84029G  KNITTED UNION FLAG HOT WATER BOTTLE         6   2016-11-29        3.39  United Kingdom        17850\n",
              "4     536365     84029E       RED WOOLLY HOTTIE WHITE HEART.         6   2016-11-29        3.39  United Kingdom        17850"
            ]
          },
          "execution_count": 16,
          "metadata": {},
          "output_type": "execute_result"
        }
      ],
      "source": [
        "df1['customer_id'] = df1['customer_id'].astype(int64)\n",
        "\n",
        "df1.head()"
      ]
    },
    {
      "cell_type": "code",
      "execution_count": 17,
      "metadata": {
        "colab": {
          "base_uri": "https://localhost:8080/"
        },
        "id": "EPSXhcUqQOtN",
        "outputId": "70902801-c061-4a96-ca98-eedf0495fb2b"
      },
      "outputs": [
        {
          "name": "stdout",
          "output_type": "stream",
          "text": [
            "<class 'pandas.core.frame.DataFrame'>\n",
            "RangeIndex: 541909 entries, 0 to 541908\n",
            "Data columns (total 8 columns):\n",
            " #   Column        Non-Null Count   Dtype         \n",
            "---  ------        --------------   -----         \n",
            " 0   invoice_no    541909 non-null  object        \n",
            " 1   stock_code    541909 non-null  object        \n",
            " 2   description   540455 non-null  object        \n",
            " 3   quantity      541909 non-null  int64         \n",
            " 4   invoice_date  541909 non-null  datetime64[ns]\n",
            " 5   unit_price    541909 non-null  float64       \n",
            " 6   country       541909 non-null  object        \n",
            " 7   customer_id   541909 non-null  int64         \n",
            "dtypes: datetime64[ns](1), float64(1), int64(2), object(4)\n",
            "memory usage: 33.1+ MB\n"
          ]
        }
      ],
      "source": [
        "df1.info();"
      ]
    },
    {
      "cell_type": "code",
      "execution_count": 18,
      "metadata": {
        "colab": {
          "base_uri": "https://localhost:8080/"
        },
        "id": "OIz0xsoLAHF6",
        "outputId": "0a26ccf8-f6fb-47c0-84e0-93aee5684765"
      },
      "outputs": [
        {
          "name": "stdout",
          "output_type": "stream",
          "text": [
            "Number of Rows: 541909\n",
            "Number of Columns: 8\n"
          ]
        }
      ],
      "source": [
        "print(f'Number of Rows: {df1.shape[0]}')\n",
        "print(f'Number of Columns: {df1.shape[1]}')"
      ]
    },
    {
      "cell_type": "markdown",
      "metadata": {
        "id": "9yKx4QQBnj4V"
      },
      "source": [
        "### 1.3.4 Numerical and Categorical Data Description"
      ]
    },
    {
      "cell_type": "code",
      "execution_count": 19,
      "metadata": {
        "id": "f9T5B2mkrdJ_"
      },
      "outputs": [],
      "source": [
        "num_attributes = df1.select_dtypes(include=['int64', 'float64'])\n",
        "cat_attributes = df1.select_dtypes(exclude=['int64', 'float64', 'datetime64[ns]'])"
      ]
    },
    {
      "cell_type": "code",
      "execution_count": 20,
      "metadata": {
        "colab": {
          "base_uri": "https://localhost:8080/"
        },
        "id": "rygnHvuMoHTc",
        "outputId": "817ff983-b6d9-4248-8f0c-9d4d5f23add3"
      },
      "outputs": [
        {
          "name": "stdout",
          "output_type": "stream",
          "text": [
            "Count of Distinct invoice_no strings: 9291 \n",
            "Count of entries with negative quantities: 10624\n"
          ]
        }
      ],
      "source": [
        "#invoice number -> Distinct Categorical entries\n",
        "invoiceno_strings = len(cat_attributes.loc[cat_attributes['invoice_no'].apply(lambda x: bool(re.search('[^0-9]+', x))),'invoice_no'])\n",
        "negative_quantities = len(num_attributes[num_attributes['quantity'] < 0])\n",
        "print(f'Count of Distinct invoice_no strings: {invoiceno_strings} \\n' +\n",
        "      f'Count of entries with negative quantities: {negative_quantities}')"
      ]
    },
    {
      "cell_type": "code",
      "execution_count": 21,
      "metadata": {
        "colab": {
          "base_uri": "https://localhost:8080/"
        },
        "id": "GIzE7sOYDMno",
        "outputId": "c1b9780f-e0a2-442f-d107-2226a5eeb255"
      },
      "outputs": [
        {
          "data": {
            "text/plain": [
              "1336"
            ]
          },
          "execution_count": 21,
          "metadata": {},
          "output_type": "execute_result"
        }
      ],
      "source": [
        "df1.loc[(df1['customer_id'] > 19000) & (df1['quantity']< 0) &\n",
        "        (df1['invoice_no'].apply(lambda x: bool(re.search('^[0-9]+', x)))), :].shape[0]"
      ]
    },
    {
      "cell_type": "markdown",
      "metadata": {
        "id": "xyd4itTZKIpL"
      },
      "source": [
        "*   The Last output shows that we now have numerical 'invoice_no' rows containing negative quantities."
      ]
    },
    {
      "cell_type": "code",
      "execution_count": 22,
      "metadata": {
        "colab": {
          "base_uri": "https://localhost:8080/"
        },
        "id": "WzK0LohHGJcl",
        "outputId": "5c2b60aa-6ca7-47e2-bff6-9aada8d50006"
      },
      "outputs": [
        {
          "name": "stdout",
          "output_type": "stream",
          "text": [
            "Total invoice_no string rows: 386 \n",
            "Total negative quantity rows: 383\n"
          ]
        }
      ],
      "source": [
        "#After customer_id fill na\n",
        "new_invoice_str = df1.loc[(df1['customer_id'] > 19000) &\n",
        "                          (df1['invoice_no'].apply(lambda x: bool(re.search('[^0-9]+', x)))), :].shape[0]\n",
        "new_invoice_negative = df1.loc[(df1['customer_id'] > 19000) & (df1['quantity']< 0) &\n",
        "                          (df1['invoice_no'].apply(lambda x: bool(re.search('[^0-9]+', x)))), :].shape[0]\n",
        "\n",
        "print(f'Total invoice_no string rows: {new_invoice_str} \\n' +\n",
        "      f'Total negative quantity rows: {new_invoice_negative}')"
      ]
    },
    {
      "cell_type": "code",
      "execution_count": 23,
      "metadata": {
        "colab": {
          "base_uri": "https://localhost:8080/",
          "height": 143
        },
        "id": "0PwvlVofObve",
        "outputId": "65d8e109-0ba0-4681-ff32-da7522820fac"
      },
      "outputs": [
        {
          "data": {
            "text/html": [
              "<div>\n",
              "<style scoped>\n",
              "    .dataframe tbody tr th:only-of-type {\n",
              "        vertical-align: middle;\n",
              "    }\n",
              "\n",
              "    .dataframe tbody tr th {\n",
              "        vertical-align: top;\n",
              "    }\n",
              "\n",
              "    .dataframe thead th {\n",
              "        text-align: right;\n",
              "    }\n",
              "</style>\n",
              "<table border=\"1\" class=\"dataframe\">\n",
              "  <thead>\n",
              "    <tr style=\"text-align: right;\">\n",
              "      <th></th>\n",
              "      <th>invoice_no</th>\n",
              "      <th>stock_code</th>\n",
              "      <th>description</th>\n",
              "      <th>quantity</th>\n",
              "      <th>invoice_date</th>\n",
              "      <th>unit_price</th>\n",
              "      <th>country</th>\n",
              "      <th>customer_id</th>\n",
              "    </tr>\n",
              "  </thead>\n",
              "  <tbody>\n",
              "    <tr>\n",
              "      <th>299982</th>\n",
              "      <td>A563185</td>\n",
              "      <td>B</td>\n",
              "      <td>Adjust bad debt</td>\n",
              "      <td>1</td>\n",
              "      <td>2017-08-10</td>\n",
              "      <td>11062.06</td>\n",
              "      <td>United Kingdom</td>\n",
              "      <td>21497</td>\n",
              "    </tr>\n",
              "    <tr>\n",
              "      <th>299983</th>\n",
              "      <td>A563186</td>\n",
              "      <td>B</td>\n",
              "      <td>Adjust bad debt</td>\n",
              "      <td>1</td>\n",
              "      <td>2017-08-10</td>\n",
              "      <td>-11062.06</td>\n",
              "      <td>United Kingdom</td>\n",
              "      <td>21498</td>\n",
              "    </tr>\n",
              "    <tr>\n",
              "      <th>299984</th>\n",
              "      <td>A563187</td>\n",
              "      <td>B</td>\n",
              "      <td>Adjust bad debt</td>\n",
              "      <td>1</td>\n",
              "      <td>2017-08-10</td>\n",
              "      <td>-11062.06</td>\n",
              "      <td>United Kingdom</td>\n",
              "      <td>21499</td>\n",
              "    </tr>\n",
              "  </tbody>\n",
              "</table>\n",
              "</div>"
            ],
            "text/plain": [
              "       invoice_no stock_code      description  quantity invoice_date  unit_price         country  customer_id\n",
              "299982    A563185          B  Adjust bad debt         1   2017-08-10    11062.06  United Kingdom        21497\n",
              "299983    A563186          B  Adjust bad debt         1   2017-08-10   -11062.06  United Kingdom        21498\n",
              "299984    A563187          B  Adjust bad debt         1   2017-08-10   -11062.06  United Kingdom        21499"
            ]
          },
          "execution_count": 23,
          "metadata": {},
          "output_type": "execute_result"
        }
      ],
      "source": [
        "df1.loc[(df1['customer_id'] > 19000) & (df1['quantity']>0) &\n",
        "        (df1['invoice_no'].apply(lambda x: bool(re.search('[^0-9]+', x)))), :]"
      ]
    },
    {
      "cell_type": "markdown",
      "metadata": {
        "id": "3GFb4amZOoXn"
      },
      "source": [
        "*   After customer_id fill na, rows with invoice_no following the pattern Cxxxxxx still have negative quantities, thus reaffirming its 'retuned/canceled' entries status.\n",
        "*   The few remaining entries fors rows with invoice_no containing string values will be removed, as the last output shows that they do not represent any item purchase."
      ]
    },
    {
      "cell_type": "code",
      "execution_count": 24,
      "metadata": {
        "colab": {
          "base_uri": "https://localhost:8080/"
        },
        "id": "FvTYZWqRwfbj",
        "outputId": "4d121659-581d-489d-f063-f2d955b562b5"
      },
      "outputs": [
        {
          "name": "stdout",
          "output_type": "stream",
          "text": [
            "Total Number of stock codes containing letters: 54873\n",
            "Total Number of string stock_codes : 12; Unique Stock Codes:['POST' 'D' 'DOT' 'M' 'S' 'AMAZONFEE' 'm' 'DCGSSBOY' 'DCGSSGIRL' 'PADS'\n",
            " 'B' 'CRUK']\n"
          ]
        }
      ],
      "source": [
        "#stock_code -> List of Selected Categorical Entries to further examine\n",
        "at_least_one_string = len(cat_attributes.loc[cat_attributes['stock_code'].apply(lambda x: bool(re.search('[^0-9]+', x))), 'stock_code'])\n",
        "print(f'Total Number of stock codes containing letters: {at_least_one_string}')\n",
        "\n",
        "cat_stock = cat_attributes.loc[cat_attributes['stock_code'].apply(lambda x: bool(re.search('^[a-zA-Z]+$', x))), 'stock_code'].unique()\n",
        "print(f'Total Number of string stock_codes : {len(cat_stock)}; Unique Stock Codes:{cat_stock}')"
      ]
    },
    {
      "cell_type": "code",
      "execution_count": 25,
      "metadata": {
        "colab": {
          "base_uri": "https://localhost:8080/"
        },
        "id": "UQwd-44_l-lG",
        "outputId": "037ecbca-8789-44d0-c89c-1728a5af353b"
      },
      "outputs": [
        {
          "data": {
            "text/plain": [
              "(2759, 8)"
            ]
          },
          "execution_count": 25,
          "metadata": {},
          "output_type": "execute_result"
        }
      ],
      "source": [
        "df_cat = df1[df1['stock_code'].isin(['POST', 'D', 'DOT', 'M', 'S', 'AMAZONFEE',\n",
        "                                     'm', 'DCGSSBOY', 'DCGSSGIRL', 'PADS', 'B',\n",
        "                                     'CRUK'])]\n",
        "df_cat.shape"
      ]
    },
    {
      "cell_type": "code",
      "execution_count": 26,
      "metadata": {
        "colab": {
          "base_uri": "https://localhost:8080/"
        },
        "id": "etz-fZkrrXQS",
        "outputId": "70183b7c-bfc2-4ac2-e043-334f8c5791e6"
      },
      "outputs": [
        {
          "data": {
            "text/plain": [
              "array(['United Kingdom', 'France', 'Australia', 'Netherlands', 'Germany',\n",
              "       'Norway', 'EIRE', 'Switzerland', 'Spain', 'Poland', 'Portugal',\n",
              "       'Italy', 'Belgium', 'Lithuania', 'Japan', 'Iceland',\n",
              "       'Channel Islands', 'Denmark', 'Cyprus', 'Sweden', 'Austria',\n",
              "       'Israel', 'Finland', 'Bahrain', 'Greece', 'Hong Kong', 'Singapore',\n",
              "       'Lebanon', 'United Arab Emirates', 'Saudi Arabia',\n",
              "       'Czech Republic', 'Canada', 'Unspecified', 'Brazil', 'USA',\n",
              "       'European Community', 'Malta', 'RSA'], dtype=object)"
            ]
          },
          "execution_count": 26,
          "metadata": {},
          "output_type": "execute_result"
        }
      ],
      "source": [
        "#country\n",
        "cat_attributes['country'].unique()\n",
        "\n"
      ]
    },
    {
      "cell_type": "markdown",
      "metadata": {
        "id": "wx93fgsXVIhp"
      },
      "source": [
        "Upon Analyzing Pandas profiling:\n",
        "\n",
        "## Numerical Data Premisses\n",
        "\n",
        "*   Rows with 'unit_price' listed as a negative value (-11062,06) will be deleted. (Not a sale entry, it is descripted as a bad debt adjust)\n",
        "*   Rows with 'unit_price' listed as 0 (values between 0.0 and 0.01) will be deleted.\n",
        "*   Rows with quantity listed as negative values are always corrective entries from its previous ones (returned, cancelled entries), and its invoice_number always follows the pattern Cxxxxxx.\n",
        "\n",
        "#Categorical Data Premises\n",
        "\n",
        "*   Rows with 'invoice_no' containing any letter (mainly folowing the pattern Cxxxxxx), will be separated as 'return dataset'; This will contain only data from cancelled/returned entries.\n",
        "*   Rows with Stock Codes that only contains letters (['POST', 'D', 'DOT', 'M', 'S', 'AMAZONFEE', 'm', 'DCGSSBOY', 'DCGSSGIRL', 'PADS', 'B', 'CRUK']) will be deleted given that they do not represent a selling transaction.\n",
        "*   Rows with country listed as ([['Unspecified', 'European Community']) will be removed."
      ]
    },
    {
      "cell_type": "markdown",
      "metadata": {
        "id": "jNhtUgScVIiJ"
      },
      "source": [
        "\n",
        "# 2.0 DATA FILTERING"
      ]
    },
    {
      "cell_type": "code",
      "execution_count": 27,
      "metadata": {
        "id": "9Yat6qPEdMH_"
      },
      "outputs": [],
      "source": [
        "df2 = df1.copy()"
      ]
    },
    {
      "cell_type": "code",
      "execution_count": 28,
      "metadata": {
        "id": "iCO3LHihdSKx"
      },
      "outputs": [],
      "source": [
        "#customer_id outlier removal\n",
        "df2 = df2.loc[~df2['customer_id'].isin([16446, 12346])]\n",
        "\n",
        "# unit_price > 0.0\n",
        "df2 = df2.loc[df2['unit_price'] > 0.04, :]\n",
        "\n",
        "# stock_code != ['POST' 'D' 'M' 'PADS' 'DOT' 'CRUK']\n",
        "df2 = df2.loc[~df2['stock_code'].isin(['POST', 'D', 'DOT', 'M', 'S', 'AMAZONFEE',\n",
        "                                       'm', 'DCGSSBOY', 'DCGSSGIRL', 'PADS', 'B',\n",
        "                                       'CRUK'])]\n",
        "\n",
        "#description\n",
        "df2 = df2.drop(columns='description', axis=1)\n",
        "\n",
        "# country != ['Unspecified', 'European Community']\n",
        "df2 = df2.loc[~df2['country'].isin(['Unspecified', 'European Community'])]\n",
        "\n",
        "#Quantity: Negative products means product returns; sale cancelled\n",
        "df2_returns = df2.loc[df2['quantity'] < 0, :]\n",
        "df2_purchases = df2.loc[df2['quantity'] >= 0, :]"
      ]
    },
    {
      "cell_type": "markdown",
      "metadata": {
        "id": "3dQeyoIMVIhr"
      },
      "source": [
        "# 3.0 FEATURE ENGINEERING\n",
        "\n",
        "\n",
        "\n"
      ]
    },
    {
      "cell_type": "code",
      "execution_count": 29,
      "metadata": {
        "id": "IakN5h23VIhr"
      },
      "outputs": [],
      "source": [
        "df3 = df2.copy()"
      ]
    },
    {
      "cell_type": "code",
      "execution_count": 30,
      "metadata": {
        "id": "pGFfkiw0YIC6"
      },
      "outputs": [],
      "source": [
        "#data_reference\n",
        "df_ref = df3.drop(['invoice_no', 'stock_code', 'quantity', 'invoice_date',\n",
        "                   'unit_price', 'country'], axis=1).drop_duplicates( ignore_index=True )"
      ]
    },
    {
      "cell_type": "code",
      "execution_count": 31,
      "metadata": {
        "id": "XNbP-xVk1jOG"
      },
      "outputs": [],
      "source": [
        "## Posíveis Idéias de Features:\n",
        "# Moving Avg -> 7d, 14d, 31d\n",
        "# Quantidade de Compras por mês -> Antes do dia 15; depois do dia 15"
      ]
    },
    {
      "cell_type": "markdown",
      "metadata": {
        "id": "B_WvD7QqYZ_e"
      },
      "source": [
        "## 3.1 Gross Revenue"
      ]
    },
    {
      "cell_type": "code",
      "execution_count": 32,
      "metadata": {
        "id": "6ETfAlD9YzCR"
      },
      "outputs": [],
      "source": [
        "#Gross Revenue\n",
        "df2_purchases['revenue'] = df2_purchases['quantity'] * df2_purchases['unit_price']\n",
        "df_monetary = df2_purchases[['customer_id', 'revenue']].groupby(['customer_id']).sum().reset_index()\n",
        "df_ref = pd.merge(df_ref, df_monetary, on='customer_id', how='left')"
      ]
    },
    {
      "cell_type": "markdown",
      "metadata": {
        "id": "HYC9DsMoYkmv"
      },
      "source": [
        "## 3.2 Recency\n",
        "\n",
        "*   Reference point adopted as the most recent date on dataset ('2017-12-07')."
      ]
    },
    {
      "cell_type": "code",
      "execution_count": 33,
      "metadata": {
        "id": "E9YrGQilY5oZ"
      },
      "outputs": [],
      "source": [
        "#Recency -> Reference point adopted as the newest data on dataset ('2017-12-07')\n",
        "df2_purchases['recency'] = df3['invoice_date'].max() - df2_purchases['invoice_date']\n",
        "df2_purchases['recency'] = df2_purchases['recency'].dt.days\n",
        "df_recency = df2_purchases[['customer_id', 'recency']].groupby('customer_id').min('recency').reset_index()\n",
        "df_ref = pd.merge(df_ref, df_recency, on='customer_id', how='left')"
      ]
    },
    {
      "cell_type": "markdown",
      "metadata": {
        "id": "jSnbYqkVY8ET"
      },
      "source": [
        "## 3.3 Total Products"
      ]
    },
    {
      "cell_type": "code",
      "execution_count": 34,
      "metadata": {
        "id": "HcbgDK0JZE4x"
      },
      "outputs": [],
      "source": [
        "#Total Products Bought per customer\n",
        "df_products = df2_purchases[['customer_id', 'quantity']].groupby('customer_id').sum().reset_index()\n",
        "df_products = df_products.rename(columns={'quantity': 'total_products'})\n",
        "df_ref = pd.merge(df_ref, df_products, on='customer_id', how='left')"
      ]
    },
    {
      "cell_type": "markdown",
      "metadata": {
        "id": "Bmwjd2HvAHlc"
      },
      "source": [
        "## 3.4 Distinct Products per Customer\n"
      ]
    },
    {
      "cell_type": "code",
      "execution_count": 35,
      "metadata": {
        "id": "5w6ZADAvAhaF"
      },
      "outputs": [],
      "source": [
        "#Total number of distinct products (stock_code) per customer\n",
        "df_stock = df2_purchases[['customer_id', 'stock_code']].groupby('customer_id').count().reset_index()\n",
        "df_stock = df_stock.rename(columns={'stock_code': 'distinct_stock_code'})\n",
        "df_ref = pd.merge(df_ref, df_stock, on='customer_id', how='left')"
      ]
    },
    {
      "cell_type": "markdown",
      "metadata": {
        "id": "FwievdDR00bh"
      },
      "source": [
        "## 3.5 Total Purchases"
      ]
    },
    {
      "cell_type": "code",
      "execution_count": 36,
      "metadata": {
        "id": "AHc2aEqf0vyd"
      },
      "outputs": [],
      "source": [
        "#Total number of purchases (invoice_no) per customer\n",
        "df_purchases = df2_purchases[['customer_id', 'invoice_no']].drop_duplicates().groupby('customer_id').count().reset_index()\n",
        "df_purchases = df_purchases.rename(columns={'invoice_no': 'total_purchases'})\n",
        "df_ref = pd.merge(df_ref, df_purchases, on='customer_id', how='left')"
      ]
    },
    {
      "cell_type": "markdown",
      "metadata": {
        "id": "Ityu2DMFZ5wH"
      },
      "source": [
        "## 3.6 Average Basket Size"
      ]
    },
    {
      "cell_type": "code",
      "execution_count": 37,
      "metadata": {
        "id": "P48Ep_JlZ-bV"
      },
      "outputs": [],
      "source": [
        "#Basket Size: Average number of total products(quantity) per purchase(invoice_no)\n",
        "df_basket = df2_purchases[['customer_id', 'invoice_no', 'quantity']].groupby(['customer_id', 'invoice_no']).sum().reset_index()\n",
        "df_basket = df_basket[['customer_id', 'quantity']].groupby('customer_id').mean().reset_index()\n",
        "df_basket = df_basket.rename(columns={'quantity': 'basket_size'})\n",
        "df_ref = pd.merge(df_ref, df_basket, on='customer_id', how='left')"
      ]
    },
    {
      "cell_type": "markdown",
      "metadata": {
        "id": "GQ97JiSTlCVt"
      },
      "source": [
        "## 3.7 Average Unique Basket Size"
      ]
    },
    {
      "cell_type": "code",
      "execution_count": 38,
      "metadata": {
        "id": "9Xfyidb3k-qT"
      },
      "outputs": [],
      "source": [
        "# Unique Basket Size: Average number of total distinct products (stock_code) per purchase(invoice_no)\n",
        "df_unique_basket = df2_purchases[['customer_id', 'invoice_no', 'stock_code']].groupby(['customer_id', 'invoice_no']).count().reset_index()\n",
        "df_unique_basket = df_unique_basket[['customer_id', 'stock_code']].groupby('customer_id').mean().reset_index()\n",
        "df_unique_basket = df_unique_basket.rename(columns={'stock_code': 'unique_basket_size'})\n",
        "df_ref = pd.merge(df_ref, df_unique_basket, on='customer_id', how='left')"
      ]
    },
    {
      "cell_type": "markdown",
      "metadata": {
        "id": "5vIaigoZZQOW"
      },
      "source": [
        "## 3.8 Average Ticket"
      ]
    },
    {
      "cell_type": "code",
      "execution_count": 39,
      "metadata": {
        "id": "EIzF3jUo5Jc6"
      },
      "outputs": [],
      "source": [
        "#Avg Ticket per client\n",
        "df_ticket = df2_purchases[['customer_id', 'revenue']].groupby(['customer_id']).mean().reset_index()\n",
        "df_ticket = df_ticket.rename(columns={'revenue': 'avg_ticket'})\n",
        "df_ref = pd.merge(df_ref, df_ticket, on='customer_id', how='left')"
      ]
    },
    {
      "cell_type": "markdown",
      "metadata": {
        "id": "UYECXTgZEB-4"
      },
      "source": [
        "## 3.9 Frequency"
      ]
    },
    {
      "cell_type": "code",
      "execution_count": 40,
      "metadata": {
        "id": "39rdzNemEENz"
      },
      "outputs": [],
      "source": [
        "df_freq = (df2_purchases[['customer_id', 'invoice_no', 'invoice_date']].drop_duplicates()\n",
        "                                                                       .groupby('customer_id')\n",
        "                                                                       .agg( max_ = ( 'invoice_date', 'max'),\n",
        "                                                                             min_ = ( 'invoice_date', 'min'),\n",
        "                                                                             days_ = ( 'invoice_date', lambda x: ((x.max() - x.min()).days) + 1),\n",
        "                                                                             buy_ = ('invoice_no', 'count'))).reset_index()\n",
        "\n",
        "#Frequency\n",
        "df_freq['frequency'] = df_freq[['buy_', 'days_']].apply( lambda x: x['buy_']/x['days_'] if x['days_'] != 0 else 0, axis=1)\n",
        "\n",
        "#Merge\n",
        "df_ref = pd.merge(df_ref, df_freq[['customer_id', 'frequency']], on='customer_id', how='left')"
      ]
    },
    {
      "cell_type": "markdown",
      "metadata": {
        "id": "ejU6E763oxoQ"
      },
      "source": [
        "## 3.10 Total Returned Products"
      ]
    },
    {
      "cell_type": "code",
      "execution_count": 41,
      "metadata": {
        "id": "KvQy6IB5o04X"
      },
      "outputs": [],
      "source": [
        "df_returned = df2_returns[['customer_id', 'quantity']].groupby('customer_id').sum().reset_index().rename(columns={'quantity': 'returned'})\n",
        "df_returned['returned'] = df_returned['returned'] * (-1)\n",
        "\n",
        "df_ref = pd.merge(df_ref, df_returned, on='customer_id', how='left')\n",
        "df_ref.loc[df_ref['returned'].isna(), 'returned'] = 0"
      ]
    },
    {
      "cell_type": "code",
      "execution_count": 42,
      "metadata": {
        "colab": {
          "base_uri": "https://localhost:8080/"
        },
        "id": "g_KbJrIZ6_3l",
        "outputId": "ffd140d1-37be-4a86-8fbf-b6ec1b278c49"
      },
      "outputs": [
        {
          "data": {
            "text/plain": [
              "customer_id             0\n",
              "revenue                91\n",
              "recency                91\n",
              "total_products         91\n",
              "distinct_stock_code    91\n",
              "total_purchases        91\n",
              "basket_size            91\n",
              "unique_basket_size     91\n",
              "avg_ticket             91\n",
              "frequency              91\n",
              "returned                0\n",
              "dtype: int64"
            ]
          },
          "execution_count": 42,
          "metadata": {},
          "output_type": "execute_result"
        }
      ],
      "source": [
        "df_ref.isna().sum()"
      ]
    },
    {
      "cell_type": "code",
      "execution_count": 43,
      "metadata": {
        "colab": {
          "base_uri": "https://localhost:8080/",
          "height": 206
        },
        "id": "thaoK-n2AFPd",
        "outputId": "8439d21a-b11d-432f-a352-832cbde3c88c"
      },
      "outputs": [
        {
          "data": {
            "text/html": [
              "<div>\n",
              "<style scoped>\n",
              "    .dataframe tbody tr th:only-of-type {\n",
              "        vertical-align: middle;\n",
              "    }\n",
              "\n",
              "    .dataframe tbody tr th {\n",
              "        vertical-align: top;\n",
              "    }\n",
              "\n",
              "    .dataframe thead th {\n",
              "        text-align: right;\n",
              "    }\n",
              "</style>\n",
              "<table border=\"1\" class=\"dataframe\">\n",
              "  <thead>\n",
              "    <tr style=\"text-align: right;\">\n",
              "      <th></th>\n",
              "      <th>customer_id</th>\n",
              "      <th>revenue</th>\n",
              "      <th>recency</th>\n",
              "      <th>total_products</th>\n",
              "      <th>distinct_stock_code</th>\n",
              "      <th>total_purchases</th>\n",
              "      <th>basket_size</th>\n",
              "      <th>unique_basket_size</th>\n",
              "      <th>avg_ticket</th>\n",
              "      <th>frequency</th>\n",
              "      <th>returned</th>\n",
              "    </tr>\n",
              "  </thead>\n",
              "  <tbody>\n",
              "    <tr>\n",
              "      <th>0</th>\n",
              "      <td>17850</td>\n",
              "      <td>5391.21</td>\n",
              "      <td>372.0</td>\n",
              "      <td>1733.0</td>\n",
              "      <td>297.0</td>\n",
              "      <td>34.0</td>\n",
              "      <td>50.970588</td>\n",
              "      <td>8.735294</td>\n",
              "      <td>18.152222</td>\n",
              "      <td>17.000000</td>\n",
              "      <td>40.0</td>\n",
              "    </tr>\n",
              "    <tr>\n",
              "      <th>1</th>\n",
              "      <td>13047</td>\n",
              "      <td>3232.59</td>\n",
              "      <td>56.0</td>\n",
              "      <td>1390.0</td>\n",
              "      <td>171.0</td>\n",
              "      <td>9.0</td>\n",
              "      <td>154.444444</td>\n",
              "      <td>19.000000</td>\n",
              "      <td>18.904035</td>\n",
              "      <td>0.028302</td>\n",
              "      <td>35.0</td>\n",
              "    </tr>\n",
              "    <tr>\n",
              "      <th>2</th>\n",
              "      <td>12583</td>\n",
              "      <td>6705.38</td>\n",
              "      <td>2.0</td>\n",
              "      <td>5028.0</td>\n",
              "      <td>232.0</td>\n",
              "      <td>15.0</td>\n",
              "      <td>335.200000</td>\n",
              "      <td>15.466667</td>\n",
              "      <td>28.902500</td>\n",
              "      <td>0.040323</td>\n",
              "      <td>50.0</td>\n",
              "    </tr>\n",
              "    <tr>\n",
              "      <th>3</th>\n",
              "      <td>13748</td>\n",
              "      <td>948.25</td>\n",
              "      <td>95.0</td>\n",
              "      <td>439.0</td>\n",
              "      <td>28.0</td>\n",
              "      <td>5.0</td>\n",
              "      <td>87.800000</td>\n",
              "      <td>5.600000</td>\n",
              "      <td>33.866071</td>\n",
              "      <td>0.017921</td>\n",
              "      <td>0.0</td>\n",
              "    </tr>\n",
              "    <tr>\n",
              "      <th>4</th>\n",
              "      <td>15100</td>\n",
              "      <td>876.00</td>\n",
              "      <td>333.0</td>\n",
              "      <td>80.0</td>\n",
              "      <td>3.0</td>\n",
              "      <td>3.0</td>\n",
              "      <td>26.666667</td>\n",
              "      <td>1.000000</td>\n",
              "      <td>292.000000</td>\n",
              "      <td>0.073171</td>\n",
              "      <td>22.0</td>\n",
              "    </tr>\n",
              "  </tbody>\n",
              "</table>\n",
              "</div>"
            ],
            "text/plain": [
              "   customer_id  revenue  recency  total_products  distinct_stock_code  total_purchases  basket_size  unique_basket_size  avg_ticket  frequency  returned\n",
              "0        17850  5391.21    372.0          1733.0                297.0             34.0    50.970588            8.735294   18.152222  17.000000      40.0\n",
              "1        13047  3232.59     56.0          1390.0                171.0              9.0   154.444444           19.000000   18.904035   0.028302      35.0\n",
              "2        12583  6705.38      2.0          5028.0                232.0             15.0   335.200000           15.466667   28.902500   0.040323      50.0\n",
              "3        13748   948.25     95.0           439.0                 28.0              5.0    87.800000            5.600000   33.866071   0.017921       0.0\n",
              "4        15100   876.00    333.0            80.0                  3.0              3.0    26.666667            1.000000  292.000000   0.073171      22.0"
            ]
          },
          "execution_count": 43,
          "metadata": {},
          "output_type": "execute_result"
        }
      ],
      "source": [
        "df_ref.head()"
      ]
    },
    {
      "cell_type": "markdown",
      "metadata": {
        "id": "JbyWDnQYoFlI"
      },
      "source": [
        "#   4.0 EDA (EXPLORATORY DATA ANALYSIS)\n",
        "\n",
        "*   The goal here is to look after features that introduces great variability to our model, in order to obtain **condensed and distant** clusters.\n",
        "\n",
        "*   Central tendency Metrics : Mean, Median\n",
        "    *   Look after values that are too far from the central tendency (Outliers)\n",
        "*   Dispersion Metrics: Min & Max values (range), Standard Deviation, Variance (std / Nº of examples), Variance Coef (CV)(std/mean)\n",
        "    *   Generally, features with high variance are wanted in our model.\n",
        "    *   Wide range features tend to offer more variability to our model.\n",
        "*   Variable Distribution\n",
        "\n",
        "\n"
      ]
    },
    {
      "cell_type": "code",
      "execution_count": 44,
      "metadata": {
        "colab": {
          "base_uri": "https://localhost:8080/"
        },
        "id": "3P6rsYRlz-Qg",
        "outputId": "8303c021-d4a3-4623-8970-44f1ef725104"
      },
      "outputs": [
        {
          "data": {
            "text/plain": [
              "customer_id            0\n",
              "revenue                0\n",
              "recency                0\n",
              "total_products         0\n",
              "distinct_stock_code    0\n",
              "total_purchases        0\n",
              "basket_size            0\n",
              "unique_basket_size     0\n",
              "avg_ticket             0\n",
              "frequency              0\n",
              "returned               0\n",
              "dtype: int64"
            ]
          },
          "execution_count": 44,
          "metadata": {},
          "output_type": "execute_result"
        }
      ],
      "source": [
        "df4 = df_ref.dropna()\n",
        "df4.isna().sum()"
      ]
    },
    {
      "cell_type": "markdown",
      "metadata": {
        "id": "6BHw87rTn8V_"
      },
      "source": [
        "# 5.0 DATA PREPARATION"
      ]
    },
    {
      "cell_type": "code",
      "execution_count": 45,
      "metadata": {
        "id": "vwDdecNl0B9I"
      },
      "outputs": [],
      "source": [
        "df5 = df4.copy()"
      ]
    },
    {
      "cell_type": "code",
      "execution_count": 46,
      "metadata": {
        "id": "YIlTU9FUPdKq"
      },
      "outputs": [],
      "source": [
        "df5 = df5.drop( columns = ['customer_id'], axis=1)"
      ]
    },
    {
      "cell_type": "code",
      "execution_count": 47,
      "metadata": {
        "id": "8-DB3EFtOIv6"
      },
      "outputs": [],
      "source": [
        "df5_aux = df5.copy()"
      ]
    },
    {
      "cell_type": "markdown",
      "metadata": {
        "id": "nGwsjk7_TEZw"
      },
      "source": [
        "## 5.1 Numerical Values (Reescaling, Standardization)"
      ]
    },
    {
      "cell_type": "code",
      "execution_count": 48,
      "metadata": {},
      "outputs": [],
      "source": [
        "AWS_ACCESS_KEY_ID = os.environ.get('AWS_ACCESS_KEY_ID')\n",
        "AWS_SECRET_ACCESS_KEY = os.environ.get('AWS_SECRET_ACCESS_KEY')\n",
        "\n",
        "fs = s3fs.S3FileSystem(anon=False, key=AWS_ACCESS_KEY_ID, secret=AWS_SECRET_ACCESS_KEY )"
      ]
    },
    {
      "cell_type": "code",
      "execution_count": 49,
      "metadata": {
        "id": "WacH-hyb6uvy"
      },
      "outputs": [],
      "source": [
        "##Standard Scaler\n",
        "ss = StandardScaler()\n",
        "rs = RobustScaler()\n",
        "mms = MinMaxScaler()\n",
        "\n",
        "\n",
        "#revenue_scaler            = pickle.load(open(path_local + 'src/features/revenue_scaler.pkl', 'rb'))\n",
        "revenue_scaler             = pickle.load(fs.open(path_s3 + 'revenue_scaler.pkl', mode='rb'))\n",
        "df5['revenue']             = revenue_scaler.transform(df5[['revenue']])\n",
        "\n",
        "#recency_scaler            = pickle.load(open(path_local + 'src/features/recency_scaler.pkl', 'rb'))\n",
        "recency_scaler             = pickle.load(fs.open(path_s3 + 'recency_scaler.pkl', mode='rb'))\n",
        "df5['recency']             = recency_scaler.transform(df5[['recency']])\n",
        "\n",
        "#total_products_scaler     = pickle.load(open(path_local + 'src/features/total_products_scaler.pkl', 'rb'))\n",
        "total_products_scaler      = pickle.load(fs.open(path_s3 + 'total_products_scaler.pkl', mode='rb'))\n",
        "df5['total_products']      = total_products_scaler.transform(df5[['total_products']])\n",
        "\n",
        "#distinct_stock_code_scaler= pickle.load(open(path_local + 'src/features/distinct_stock_code_scaler.pkl', 'rb'))\n",
        "distinct_stock_code_scaler = pickle.load(fs.open(path_s3 + 'distinct_stock_code_scaler.pkl', mode='rb'))\n",
        "df5['distinct_stock_code'] = distinct_stock_code_scaler.transform(df5[['distinct_stock_code']])\n",
        "\n",
        "#total_purchases_scaler    = pickle.load(open(path_local + 'src/features/total_purchases_scaler.pkl', 'rb'))\n",
        "total_purchases_scaler     = pickle.load(fs.open(path_s3 + 'total_purchases_scaler.pkl', mode='rb'))\n",
        "df5['total_purchases']     = total_purchases_scaler.transform(df5[['total_purchases']])\n",
        "\n",
        "#basket_size_scaler        = pickle.load(open(path_local + 'src/features/basket_size_scaler.pkl', 'rb'))\n",
        "basket_size_scaler         = pickle.load(fs.open(path_s3 + 'basket_size_scaler.pkl', mode='rb'))\n",
        "df5['basket_size']         = basket_size_scaler.transform(df5[['basket_size']])\n",
        "\n",
        "#unique_basket_size_scaler = pickle.load(open(path_local + 'src/features/unique_basket_size_scaler.pkl', 'rb'))\n",
        "unique_basket_size_scaler  = pickle.load(fs.open(path_s3 + 'unique_basket_size_scaler.pkl', mode='rb'))\n",
        "df5['unique_basket_size']  = unique_basket_size_scaler.transform(df5[['unique_basket_size']])\n",
        "\n",
        "#avg_ticket_scaler         = pickle.load(open(path_local + 'src/features/avg_ticket_scaler.pkl', 'rb'))\n",
        "avg_ticket_scaler          = pickle.load(fs.open(path_s3 + 'avg_ticket_scaler.pkl', mode='rb'))\n",
        "df5['avg_ticket']          = avg_ticket_scaler.transform(df5[['avg_ticket']])\n",
        "\n",
        "#frequency_scaler          = pickle.load(open(path_local + 'src/features/frequency_scaler.pkl', 'rb'))\n",
        "frequency_scaler           = pickle.load(fs.open(path_s3 + 'frequency_scaler.pkl', mode='rb'))\n",
        "df5['frequency']           = frequency_scaler.transform(df5[['frequency']])\n",
        "\n",
        "#returned_scaler           = pickle.load(open(path_local + 'src/features/returned_scaler.pkl', 'rb'))\n",
        "returned_scaler            = pickle.load(fs.open(path_s3 + 'returned_scaler.pkl', mode='rb'))\n",
        "df5['returned']            = returned_scaler.transform(df5[['returned']])\n",
        "\n",
        "\n",
        "X = df5.copy()"
      ]
    },
    {
      "cell_type": "markdown",
      "metadata": {
        "id": "Ldb8wILprVhI"
      },
      "source": [
        "### 5.3.4 Tree-based Embedding"
      ]
    },
    {
      "cell_type": "code",
      "execution_count": 50,
      "metadata": {
        "id": "CmboRzcKZOti"
      },
      "outputs": [],
      "source": [
        "columns = [ 'total_purchases', 'total_products', 'frequency' ,\n",
        "            'unique_basket_size', 'avg_ticket']"
      ]
    },
    {
      "cell_type": "code",
      "execution_count": 51,
      "metadata": {
        "id": "5-CKcPMn3YBq"
      },
      "outputs": [],
      "source": [
        "df_tree = X.drop(columns=columns, axis=1)"
      ]
    },
    {
      "cell_type": "code",
      "execution_count": 52,
      "metadata": {
        "id": "br5C5GXprasX"
      },
      "outputs": [],
      "source": [
        "X = df_tree.drop(columns=['revenue'], axis = 1)\n",
        "y = df_tree[['revenue']]"
      ]
    },
    {
      "cell_type": "code",
      "execution_count": 53,
      "metadata": {
        "colab": {
          "base_uri": "https://localhost:8080/",
          "height": 75
        },
        "id": "o58oPMV7rlJ2",
        "outputId": "2e63194b-678b-4626-a0a5-4b47d5351bc5"
      },
      "outputs": [],
      "source": [
        "##Model Definition\n",
        "#rf_model = RandomForestRegressor(n_estimators=100, random_state = 42)\n",
        "#\n",
        "##Model Training\n",
        "#rf_model.fit(X, y)\n",
        "#pickle.dump(rf_model, open('../models/rf_model.pkl', 'wb'))\n",
        "\n",
        "#Load Model\n",
        "#rf_model = pickle.load(open(path_local + 'src/models/rf_model.pkl', 'rb'))\n",
        "rf_model = pickle.load(fs.open(path_s3 + 'rf_model.pkl', mode='rb'))"
      ]
    },
    {
      "cell_type": "code",
      "execution_count": 54,
      "metadata": {
        "colab": {
          "base_uri": "https://localhost:8080/",
          "height": 226
        },
        "id": "bCUYi4EHsk9z",
        "outputId": "3e20d267-1dc0-4336-ab51-27e00d3dd06f"
      },
      "outputs": [
        {
          "data": {
            "text/html": [
              "<div>\n",
              "<style scoped>\n",
              "    .dataframe tbody tr th:only-of-type {\n",
              "        vertical-align: middle;\n",
              "    }\n",
              "\n",
              "    .dataframe tbody tr th {\n",
              "        vertical-align: top;\n",
              "    }\n",
              "\n",
              "    .dataframe thead th {\n",
              "        text-align: right;\n",
              "    }\n",
              "</style>\n",
              "<table border=\"1\" class=\"dataframe\">\n",
              "  <thead>\n",
              "    <tr style=\"text-align: right;\">\n",
              "      <th></th>\n",
              "      <th>0</th>\n",
              "      <th>1</th>\n",
              "      <th>2</th>\n",
              "      <th>3</th>\n",
              "      <th>4</th>\n",
              "      <th>5</th>\n",
              "      <th>6</th>\n",
              "      <th>7</th>\n",
              "      <th>8</th>\n",
              "      <th>9</th>\n",
              "      <th>10</th>\n",
              "      <th>11</th>\n",
              "      <th>12</th>\n",
              "      <th>13</th>\n",
              "      <th>14</th>\n",
              "      <th>15</th>\n",
              "      <th>16</th>\n",
              "      <th>17</th>\n",
              "      <th>18</th>\n",
              "      <th>19</th>\n",
              "      <th>20</th>\n",
              "      <th>21</th>\n",
              "      <th>22</th>\n",
              "      <th>23</th>\n",
              "      <th>24</th>\n",
              "      <th>25</th>\n",
              "      <th>26</th>\n",
              "      <th>27</th>\n",
              "      <th>28</th>\n",
              "      <th>29</th>\n",
              "      <th>30</th>\n",
              "      <th>31</th>\n",
              "      <th>32</th>\n",
              "      <th>33</th>\n",
              "      <th>34</th>\n",
              "      <th>35</th>\n",
              "      <th>36</th>\n",
              "      <th>37</th>\n",
              "      <th>38</th>\n",
              "      <th>39</th>\n",
              "      <th>40</th>\n",
              "      <th>41</th>\n",
              "      <th>42</th>\n",
              "      <th>43</th>\n",
              "      <th>44</th>\n",
              "      <th>45</th>\n",
              "      <th>46</th>\n",
              "      <th>47</th>\n",
              "      <th>48</th>\n",
              "      <th>49</th>\n",
              "      <th>50</th>\n",
              "      <th>51</th>\n",
              "      <th>52</th>\n",
              "      <th>53</th>\n",
              "      <th>54</th>\n",
              "      <th>55</th>\n",
              "      <th>56</th>\n",
              "      <th>57</th>\n",
              "      <th>58</th>\n",
              "      <th>59</th>\n",
              "      <th>60</th>\n",
              "      <th>61</th>\n",
              "      <th>62</th>\n",
              "      <th>63</th>\n",
              "      <th>64</th>\n",
              "      <th>65</th>\n",
              "      <th>66</th>\n",
              "      <th>67</th>\n",
              "      <th>68</th>\n",
              "      <th>69</th>\n",
              "      <th>70</th>\n",
              "      <th>71</th>\n",
              "      <th>72</th>\n",
              "      <th>73</th>\n",
              "      <th>74</th>\n",
              "      <th>75</th>\n",
              "      <th>76</th>\n",
              "      <th>77</th>\n",
              "      <th>78</th>\n",
              "      <th>79</th>\n",
              "      <th>80</th>\n",
              "      <th>81</th>\n",
              "      <th>82</th>\n",
              "      <th>83</th>\n",
              "      <th>84</th>\n",
              "      <th>85</th>\n",
              "      <th>86</th>\n",
              "      <th>87</th>\n",
              "      <th>88</th>\n",
              "      <th>89</th>\n",
              "      <th>90</th>\n",
              "      <th>91</th>\n",
              "      <th>92</th>\n",
              "      <th>93</th>\n",
              "      <th>94</th>\n",
              "      <th>95</th>\n",
              "      <th>96</th>\n",
              "      <th>97</th>\n",
              "      <th>98</th>\n",
              "      <th>99</th>\n",
              "    </tr>\n",
              "  </thead>\n",
              "  <tbody>\n",
              "    <tr>\n",
              "      <th>0</th>\n",
              "      <td>6643</td>\n",
              "      <td>6727</td>\n",
              "      <td>6869</td>\n",
              "      <td>6592</td>\n",
              "      <td>6697</td>\n",
              "      <td>6844</td>\n",
              "      <td>6822</td>\n",
              "      <td>6959</td>\n",
              "      <td>6776</td>\n",
              "      <td>7189</td>\n",
              "      <td>6793</td>\n",
              "      <td>6556</td>\n",
              "      <td>6958</td>\n",
              "      <td>6822</td>\n",
              "      <td>6829</td>\n",
              "      <td>6616</td>\n",
              "      <td>6869</td>\n",
              "      <td>6551</td>\n",
              "      <td>7021</td>\n",
              "      <td>6997</td>\n",
              "      <td>6652</td>\n",
              "      <td>6741</td>\n",
              "      <td>7043</td>\n",
              "      <td>7064</td>\n",
              "      <td>6954</td>\n",
              "      <td>6770</td>\n",
              "      <td>6436</td>\n",
              "      <td>6484</td>\n",
              "      <td>6675</td>\n",
              "      <td>6789</td>\n",
              "      <td>6971</td>\n",
              "      <td>7170</td>\n",
              "      <td>7047</td>\n",
              "      <td>6774</td>\n",
              "      <td>6994</td>\n",
              "      <td>6612</td>\n",
              "      <td>6476</td>\n",
              "      <td>7047</td>\n",
              "      <td>6477</td>\n",
              "      <td>7089</td>\n",
              "      <td>6505</td>\n",
              "      <td>6947</td>\n",
              "      <td>6523</td>\n",
              "      <td>6532</td>\n",
              "      <td>6956</td>\n",
              "      <td>6676</td>\n",
              "      <td>7051</td>\n",
              "      <td>6641</td>\n",
              "      <td>7065</td>\n",
              "      <td>6976</td>\n",
              "      <td>7189</td>\n",
              "      <td>7062</td>\n",
              "      <td>6475</td>\n",
              "      <td>6562</td>\n",
              "      <td>7033</td>\n",
              "      <td>6616</td>\n",
              "      <td>6612</td>\n",
              "      <td>6646</td>\n",
              "      <td>6797</td>\n",
              "      <td>6869</td>\n",
              "      <td>6937</td>\n",
              "      <td>6996</td>\n",
              "      <td>6952</td>\n",
              "      <td>7011</td>\n",
              "      <td>7052</td>\n",
              "      <td>6760</td>\n",
              "      <td>6704</td>\n",
              "      <td>6680</td>\n",
              "      <td>6983</td>\n",
              "      <td>7031</td>\n",
              "      <td>6595</td>\n",
              "      <td>6982</td>\n",
              "      <td>6956</td>\n",
              "      <td>6502</td>\n",
              "      <td>6471</td>\n",
              "      <td>6751</td>\n",
              "      <td>6889</td>\n",
              "      <td>6680</td>\n",
              "      <td>7153</td>\n",
              "      <td>6838</td>\n",
              "      <td>7056</td>\n",
              "      <td>6831</td>\n",
              "      <td>6624</td>\n",
              "      <td>6325</td>\n",
              "      <td>6580</td>\n",
              "      <td>6550</td>\n",
              "      <td>6942</td>\n",
              "      <td>6366</td>\n",
              "      <td>6955</td>\n",
              "      <td>6511</td>\n",
              "      <td>6967</td>\n",
              "      <td>6765</td>\n",
              "      <td>6805</td>\n",
              "      <td>6693</td>\n",
              "      <td>6591</td>\n",
              "      <td>6751</td>\n",
              "      <td>7032</td>\n",
              "      <td>6785</td>\n",
              "      <td>6839</td>\n",
              "      <td>6629</td>\n",
              "    </tr>\n",
              "    <tr>\n",
              "      <th>1</th>\n",
              "      <td>6467</td>\n",
              "      <td>6682</td>\n",
              "      <td>6437</td>\n",
              "      <td>6052</td>\n",
              "      <td>6587</td>\n",
              "      <td>6692</td>\n",
              "      <td>6263</td>\n",
              "      <td>6103</td>\n",
              "      <td>6518</td>\n",
              "      <td>6476</td>\n",
              "      <td>6710</td>\n",
              "      <td>6430</td>\n",
              "      <td>6311</td>\n",
              "      <td>6742</td>\n",
              "      <td>6161</td>\n",
              "      <td>6402</td>\n",
              "      <td>6425</td>\n",
              "      <td>5756</td>\n",
              "      <td>6504</td>\n",
              "      <td>6182</td>\n",
              "      <td>6642</td>\n",
              "      <td>6496</td>\n",
              "      <td>5930</td>\n",
              "      <td>6366</td>\n",
              "      <td>6049</td>\n",
              "      <td>6746</td>\n",
              "      <td>6452</td>\n",
              "      <td>6476</td>\n",
              "      <td>6630</td>\n",
              "      <td>6588</td>\n",
              "      <td>5915</td>\n",
              "      <td>6528</td>\n",
              "      <td>5959</td>\n",
              "      <td>6739</td>\n",
              "      <td>6960</td>\n",
              "      <td>6616</td>\n",
              "      <td>6566</td>\n",
              "      <td>5875</td>\n",
              "      <td>6393</td>\n",
              "      <td>6101</td>\n",
              "      <td>6495</td>\n",
              "      <td>6856</td>\n",
              "      <td>6567</td>\n",
              "      <td>6469</td>\n",
              "      <td>6157</td>\n",
              "      <td>6660</td>\n",
              "      <td>7018</td>\n",
              "      <td>6543</td>\n",
              "      <td>6577</td>\n",
              "      <td>6919</td>\n",
              "      <td>7145</td>\n",
              "      <td>6595</td>\n",
              "      <td>6472</td>\n",
              "      <td>6493</td>\n",
              "      <td>6429</td>\n",
              "      <td>6522</td>\n",
              "      <td>6519</td>\n",
              "      <td>6605</td>\n",
              "      <td>6696</td>\n",
              "      <td>6232</td>\n",
              "      <td>6001</td>\n",
              "      <td>6928</td>\n",
              "      <td>6482</td>\n",
              "      <td>6446</td>\n",
              "      <td>6614</td>\n",
              "      <td>6360</td>\n",
              "      <td>6620</td>\n",
              "      <td>6540</td>\n",
              "      <td>6927</td>\n",
              "      <td>6435</td>\n",
              "      <td>6544</td>\n",
              "      <td>6030</td>\n",
              "      <td>6056</td>\n",
              "      <td>6429</td>\n",
              "      <td>6466</td>\n",
              "      <td>6697</td>\n",
              "      <td>6360</td>\n",
              "      <td>6399</td>\n",
              "      <td>6064</td>\n",
              "      <td>6121</td>\n",
              "      <td>5933</td>\n",
              "      <td>6391</td>\n",
              "      <td>6503</td>\n",
              "      <td>6544</td>\n",
              "      <td>6388</td>\n",
              "      <td>6541</td>\n",
              "      <td>6358</td>\n",
              "      <td>6386</td>\n",
              "      <td>5736</td>\n",
              "      <td>6457</td>\n",
              "      <td>6429</td>\n",
              "      <td>6219</td>\n",
              "      <td>6518</td>\n",
              "      <td>6222</td>\n",
              "      <td>6550</td>\n",
              "      <td>6332</td>\n",
              "      <td>6949</td>\n",
              "      <td>6506</td>\n",
              "      <td>6508</td>\n",
              "      <td>6637</td>\n",
              "    </tr>\n",
              "    <tr>\n",
              "      <th>2</th>\n",
              "      <td>6660</td>\n",
              "      <td>6858</td>\n",
              "      <td>6499</td>\n",
              "      <td>6666</td>\n",
              "      <td>6723</td>\n",
              "      <td>6891</td>\n",
              "      <td>6354</td>\n",
              "      <td>7025</td>\n",
              "      <td>7078</td>\n",
              "      <td>7116</td>\n",
              "      <td>6813</td>\n",
              "      <td>6523</td>\n",
              "      <td>6435</td>\n",
              "      <td>6783</td>\n",
              "      <td>6857</td>\n",
              "      <td>6602</td>\n",
              "      <td>6895</td>\n",
              "      <td>6974</td>\n",
              "      <td>6549</td>\n",
              "      <td>7010</td>\n",
              "      <td>6775</td>\n",
              "      <td>6733</td>\n",
              "      <td>7059</td>\n",
              "      <td>6487</td>\n",
              "      <td>7008</td>\n",
              "      <td>6769</td>\n",
              "      <td>6521</td>\n",
              "      <td>6583</td>\n",
              "      <td>5432</td>\n",
              "      <td>6817</td>\n",
              "      <td>6886</td>\n",
              "      <td>6609</td>\n",
              "      <td>7036</td>\n",
              "      <td>6809</td>\n",
              "      <td>7039</td>\n",
              "      <td>6952</td>\n",
              "      <td>6672</td>\n",
              "      <td>7075</td>\n",
              "      <td>6501</td>\n",
              "      <td>7018</td>\n",
              "      <td>5078</td>\n",
              "      <td>6926</td>\n",
              "      <td>6747</td>\n",
              "      <td>6770</td>\n",
              "      <td>6873</td>\n",
              "      <td>6616</td>\n",
              "      <td>7058</td>\n",
              "      <td>6579</td>\n",
              "      <td>6979</td>\n",
              "      <td>6877</td>\n",
              "      <td>7100</td>\n",
              "      <td>6565</td>\n",
              "      <td>6561</td>\n",
              "      <td>6570</td>\n",
              "      <td>6480</td>\n",
              "      <td>7087</td>\n",
              "      <td>6623</td>\n",
              "      <td>6692</td>\n",
              "      <td>6780</td>\n",
              "      <td>6319</td>\n",
              "      <td>7009</td>\n",
              "      <td>6971</td>\n",
              "      <td>6525</td>\n",
              "      <td>6441</td>\n",
              "      <td>6673</td>\n",
              "      <td>6471</td>\n",
              "      <td>6723</td>\n",
              "      <td>6655</td>\n",
              "      <td>7002</td>\n",
              "      <td>6489</td>\n",
              "      <td>6984</td>\n",
              "      <td>7015</td>\n",
              "      <td>6992</td>\n",
              "      <td>6731</td>\n",
              "      <td>6548</td>\n",
              "      <td>6636</td>\n",
              "      <td>6442</td>\n",
              "      <td>6686</td>\n",
              "      <td>7098</td>\n",
              "      <td>6996</td>\n",
              "      <td>7054</td>\n",
              "      <td>6459</td>\n",
              "      <td>6617</td>\n",
              "      <td>6643</td>\n",
              "      <td>6493</td>\n",
              "      <td>6977</td>\n",
              "      <td>6489</td>\n",
              "      <td>6624</td>\n",
              "      <td>6904</td>\n",
              "      <td>6558</td>\n",
              "      <td>6546</td>\n",
              "      <td>6429</td>\n",
              "      <td>7050</td>\n",
              "      <td>6350</td>\n",
              "      <td>6520</td>\n",
              "      <td>6790</td>\n",
              "      <td>7010</td>\n",
              "      <td>6771</td>\n",
              "      <td>6477</td>\n",
              "      <td>7121</td>\n",
              "    </tr>\n",
              "    <tr>\n",
              "      <th>3</th>\n",
              "      <td>2853</td>\n",
              "      <td>3300</td>\n",
              "      <td>2745</td>\n",
              "      <td>2732</td>\n",
              "      <td>2225</td>\n",
              "      <td>2861</td>\n",
              "      <td>2273</td>\n",
              "      <td>3002</td>\n",
              "      <td>2923</td>\n",
              "      <td>2589</td>\n",
              "      <td>2591</td>\n",
              "      <td>3080</td>\n",
              "      <td>3121</td>\n",
              "      <td>1652</td>\n",
              "      <td>2767</td>\n",
              "      <td>2756</td>\n",
              "      <td>2656</td>\n",
              "      <td>2909</td>\n",
              "      <td>2959</td>\n",
              "      <td>2449</td>\n",
              "      <td>2588</td>\n",
              "      <td>2797</td>\n",
              "      <td>3023</td>\n",
              "      <td>1645</td>\n",
              "      <td>1647</td>\n",
              "      <td>2630</td>\n",
              "      <td>3067</td>\n",
              "      <td>3115</td>\n",
              "      <td>2620</td>\n",
              "      <td>2906</td>\n",
              "      <td>3088</td>\n",
              "      <td>3006</td>\n",
              "      <td>2948</td>\n",
              "      <td>2194</td>\n",
              "      <td>2418</td>\n",
              "      <td>2819</td>\n",
              "      <td>1724</td>\n",
              "      <td>3005</td>\n",
              "      <td>2945</td>\n",
              "      <td>1710</td>\n",
              "      <td>2762</td>\n",
              "      <td>2718</td>\n",
              "      <td>2402</td>\n",
              "      <td>2447</td>\n",
              "      <td>2731</td>\n",
              "      <td>2579</td>\n",
              "      <td>2768</td>\n",
              "      <td>3153</td>\n",
              "      <td>1655</td>\n",
              "      <td>2895</td>\n",
              "      <td>2834</td>\n",
              "      <td>3040</td>\n",
              "      <td>2896</td>\n",
              "      <td>2652</td>\n",
              "      <td>2809</td>\n",
              "      <td>1613</td>\n",
              "      <td>2757</td>\n",
              "      <td>2723</td>\n",
              "      <td>1698</td>\n",
              "      <td>1765</td>\n",
              "      <td>2777</td>\n",
              "      <td>2538</td>\n",
              "      <td>2457</td>\n",
              "      <td>2782</td>\n",
              "      <td>1503</td>\n",
              "      <td>2425</td>\n",
              "      <td>2963</td>\n",
              "      <td>2600</td>\n",
              "      <td>2855</td>\n",
              "      <td>2888</td>\n",
              "      <td>2291</td>\n",
              "      <td>3086</td>\n",
              "      <td>2756</td>\n",
              "      <td>2553</td>\n",
              "      <td>2816</td>\n",
              "      <td>2821</td>\n",
              "      <td>2900</td>\n",
              "      <td>2809</td>\n",
              "      <td>2426</td>\n",
              "      <td>3193</td>\n",
              "      <td>2940</td>\n",
              "      <td>1811</td>\n",
              "      <td>2880</td>\n",
              "      <td>2016</td>\n",
              "      <td>3077</td>\n",
              "      <td>2498</td>\n",
              "      <td>2972</td>\n",
              "      <td>2718</td>\n",
              "      <td>2901</td>\n",
              "      <td>1655</td>\n",
              "      <td>2787</td>\n",
              "      <td>3047</td>\n",
              "      <td>1597</td>\n",
              "      <td>2771</td>\n",
              "      <td>2990</td>\n",
              "      <td>3016</td>\n",
              "      <td>1785</td>\n",
              "      <td>1977</td>\n",
              "      <td>2824</td>\n",
              "      <td>2408</td>\n",
              "    </tr>\n",
              "    <tr>\n",
              "      <th>4</th>\n",
              "      <td>1718</td>\n",
              "      <td>973</td>\n",
              "      <td>765</td>\n",
              "      <td>862</td>\n",
              "      <td>861</td>\n",
              "      <td>656</td>\n",
              "      <td>1032</td>\n",
              "      <td>2492</td>\n",
              "      <td>1551</td>\n",
              "      <td>1002</td>\n",
              "      <td>1343</td>\n",
              "      <td>1463</td>\n",
              "      <td>750</td>\n",
              "      <td>881</td>\n",
              "      <td>879</td>\n",
              "      <td>944</td>\n",
              "      <td>885</td>\n",
              "      <td>717</td>\n",
              "      <td>2522</td>\n",
              "      <td>673</td>\n",
              "      <td>1308</td>\n",
              "      <td>792</td>\n",
              "      <td>949</td>\n",
              "      <td>1252</td>\n",
              "      <td>1036</td>\n",
              "      <td>1347</td>\n",
              "      <td>1527</td>\n",
              "      <td>1300</td>\n",
              "      <td>843</td>\n",
              "      <td>1517</td>\n",
              "      <td>971</td>\n",
              "      <td>1513</td>\n",
              "      <td>733</td>\n",
              "      <td>791</td>\n",
              "      <td>939</td>\n",
              "      <td>1300</td>\n",
              "      <td>910</td>\n",
              "      <td>955</td>\n",
              "      <td>857</td>\n",
              "      <td>1118</td>\n",
              "      <td>988</td>\n",
              "      <td>1023</td>\n",
              "      <td>795</td>\n",
              "      <td>1150</td>\n",
              "      <td>1348</td>\n",
              "      <td>2065</td>\n",
              "      <td>994</td>\n",
              "      <td>924</td>\n",
              "      <td>1148</td>\n",
              "      <td>712</td>\n",
              "      <td>905</td>\n",
              "      <td>1486</td>\n",
              "      <td>882</td>\n",
              "      <td>1225</td>\n",
              "      <td>935</td>\n",
              "      <td>1749</td>\n",
              "      <td>1568</td>\n",
              "      <td>1131</td>\n",
              "      <td>1067</td>\n",
              "      <td>996</td>\n",
              "      <td>1286</td>\n",
              "      <td>910</td>\n",
              "      <td>1236</td>\n",
              "      <td>949</td>\n",
              "      <td>927</td>\n",
              "      <td>949</td>\n",
              "      <td>1142</td>\n",
              "      <td>4414</td>\n",
              "      <td>1662</td>\n",
              "      <td>995</td>\n",
              "      <td>1279</td>\n",
              "      <td>869</td>\n",
              "      <td>965</td>\n",
              "      <td>855</td>\n",
              "      <td>927</td>\n",
              "      <td>1168</td>\n",
              "      <td>805</td>\n",
              "      <td>1224</td>\n",
              "      <td>637</td>\n",
              "      <td>946</td>\n",
              "      <td>915</td>\n",
              "      <td>1474</td>\n",
              "      <td>1337</td>\n",
              "      <td>775</td>\n",
              "      <td>4393</td>\n",
              "      <td>968</td>\n",
              "      <td>1340</td>\n",
              "      <td>4440</td>\n",
              "      <td>4252</td>\n",
              "      <td>1199</td>\n",
              "      <td>706</td>\n",
              "      <td>1357</td>\n",
              "      <td>910</td>\n",
              "      <td>943</td>\n",
              "      <td>818</td>\n",
              "      <td>1033</td>\n",
              "      <td>1007</td>\n",
              "      <td>1243</td>\n",
              "      <td>988</td>\n",
              "      <td>931</td>\n",
              "    </tr>\n",
              "  </tbody>\n",
              "</table>\n",
              "</div>"
            ],
            "text/plain": [
              "     0     1     2     3     4     5     6     7     8     9     10    11    12    13    14    15    16    17    18    19    20    21    22    23    24    25    26    27    28    29    30    31    32    33    34    35    36    37    38    39    40    41    42    43    44    45    46    47    48    49    50    51    52    53    54    55    56    57    58    59    60    61    62    63    64    65    66    67    68    69    70    71    72    73    74    75    76    77    78    79    80    81    82    83    84    85    86    87    88    89    90    91    92    93    94    95    96    97    98    99\n",
              "0  6643  6727  6869  6592  6697  6844  6822  6959  6776  7189  6793  6556  6958  6822  6829  6616  6869  6551  7021  6997  6652  6741  7043  7064  6954  6770  6436  6484  6675  6789  6971  7170  7047  6774  6994  6612  6476  7047  6477  7089  6505  6947  6523  6532  6956  6676  7051  6641  7065  6976  7189  7062  6475  6562  7033  6616  6612  6646  6797  6869  6937  6996  6952  7011  7052  6760  6704  6680  6983  7031  6595  6982  6956  6502  6471  6751  6889  6680  7153  6838  7056  6831  6624  6325  6580  6550  6942  6366  6955  6511  6967  6765  6805  6693  6591  6751  7032  6785  6839  6629\n",
              "1  6467  6682  6437  6052  6587  6692  6263  6103  6518  6476  6710  6430  6311  6742  6161  6402  6425  5756  6504  6182  6642  6496  5930  6366  6049  6746  6452  6476  6630  6588  5915  6528  5959  6739  6960  6616  6566  5875  6393  6101  6495  6856  6567  6469  6157  6660  7018  6543  6577  6919  7145  6595  6472  6493  6429  6522  6519  6605  6696  6232  6001  6928  6482  6446  6614  6360  6620  6540  6927  6435  6544  6030  6056  6429  6466  6697  6360  6399  6064  6121  5933  6391  6503  6544  6388  6541  6358  6386  5736  6457  6429  6219  6518  6222  6550  6332  6949  6506  6508  6637\n",
              "2  6660  6858  6499  6666  6723  6891  6354  7025  7078  7116  6813  6523  6435  6783  6857  6602  6895  6974  6549  7010  6775  6733  7059  6487  7008  6769  6521  6583  5432  6817  6886  6609  7036  6809  7039  6952  6672  7075  6501  7018  5078  6926  6747  6770  6873  6616  7058  6579  6979  6877  7100  6565  6561  6570  6480  7087  6623  6692  6780  6319  7009  6971  6525  6441  6673  6471  6723  6655  7002  6489  6984  7015  6992  6731  6548  6636  6442  6686  7098  6996  7054  6459  6617  6643  6493  6977  6489  6624  6904  6558  6546  6429  7050  6350  6520  6790  7010  6771  6477  7121\n",
              "3  2853  3300  2745  2732  2225  2861  2273  3002  2923  2589  2591  3080  3121  1652  2767  2756  2656  2909  2959  2449  2588  2797  3023  1645  1647  2630  3067  3115  2620  2906  3088  3006  2948  2194  2418  2819  1724  3005  2945  1710  2762  2718  2402  2447  2731  2579  2768  3153  1655  2895  2834  3040  2896  2652  2809  1613  2757  2723  1698  1765  2777  2538  2457  2782  1503  2425  2963  2600  2855  2888  2291  3086  2756  2553  2816  2821  2900  2809  2426  3193  2940  1811  2880  2016  3077  2498  2972  2718  2901  1655  2787  3047  1597  2771  2990  3016  1785  1977  2824  2408\n",
              "4  1718   973   765   862   861   656  1032  2492  1551  1002  1343  1463   750   881   879   944   885   717  2522   673  1308   792   949  1252  1036  1347  1527  1300   843  1517   971  1513   733   791   939  1300   910   955   857  1118   988  1023   795  1150  1348  2065   994   924  1148   712   905  1486   882  1225   935  1749  1568  1131  1067   996  1286   910  1236   949   927   949  1142  4414  1662   995  1279   869   965   855   927  1168   805  1224   637   946   915  1474  1337   775  4393   968  1340  4440  4252  1199   706  1357   910   943   818  1033  1007  1243   988   931"
            ]
          },
          "execution_count": 54,
          "metadata": {},
          "output_type": "execute_result"
        }
      ],
      "source": [
        "#Tree Leaves\n",
        "df_leaf = pd.DataFrame(rf_model.apply(X))\n",
        "df_leaf.head()"
      ]
    },
    {
      "cell_type": "code",
      "execution_count": 55,
      "metadata": {
        "colab": {
          "base_uri": "https://localhost:8080/",
          "height": 364
        },
        "id": "LQAVup7J1mIh",
        "outputId": "83ad0f5d-32f5-44dc-e601-25858c2d94bc"
      },
      "outputs": [
        {
          "data": {
            "image/png": "[encoded data removed]",
            "text/plain": [
              "<Figure size 2500x1200 with 1 Axes>"
            ]
          },
          "metadata": {},
          "output_type": "display_data"
        }
      ],
      "source": [
        "##@title { vertical-output: true}\n",
        "#reducer = umap.UMAP( random_state=42 )\n",
        "#pickle.dump(reducer, open('../features/umap_reducer.pkl', 'wb'))\n",
        "\n",
        "#reducer = pickle.load(open(path_local + 'src/features/umap_reducer.pkl', 'rb'))\n",
        "reducer = pickle.load(fs.open(path_s3 + 'umap_reducer.pkl', mode='rb'))\n",
        "embedding = reducer.fit_transform( df_leaf )\n",
        "\n",
        "#embedding\n",
        "#df_pca['embedding_x'] = embedding[:, 0]\n",
        "#df_pca['embedding_y'] = embedding[:, 1]\n",
        "\n",
        "df_tree = pd.DataFrame()\n",
        "df_tree['embedding_x'] = embedding[:, 0]\n",
        "df_tree['embedding_y'] = embedding[:, 1]\n",
        "\n",
        "#Plot\n",
        "sns.scatterplot(x='embedding_x', y='embedding_y', data=df_tree);"
      ]
    },
    {
      "cell_type": "markdown",
      "metadata": {
        "id": "nHaFPjxtVIiJ"
      },
      "source": [
        "#   6.0 FEATURE SELECTION"
      ]
    },
    {
      "cell_type": "code",
      "execution_count": 55,
      "metadata": {
        "id": "lFeflSNGAOze"
      },
      "outputs": [],
      "source": [
        "df6 = df_tree.copy()"
      ]
    },
    {
      "cell_type": "code",
      "execution_count": 56,
      "metadata": {
        "colab": {
          "base_uri": "https://localhost:8080/",
          "height": 206
        },
        "id": "3TMHrOvOZSld",
        "outputId": "5da5b86c-b64d-4abb-cdeb-a41a417351c7"
      },
      "outputs": [
        {
          "data": {
            "text/html": [
              "<div>\n",
              "<style scoped>\n",
              "    .dataframe tbody tr th:only-of-type {\n",
              "        vertical-align: middle;\n",
              "    }\n",
              "\n",
              "    .dataframe tbody tr th {\n",
              "        vertical-align: top;\n",
              "    }\n",
              "\n",
              "    .dataframe thead th {\n",
              "        text-align: right;\n",
              "    }\n",
              "</style>\n",
              "<table border=\"1\" class=\"dataframe\">\n",
              "  <thead>\n",
              "    <tr style=\"text-align: right;\">\n",
              "      <th></th>\n",
              "      <th>embedding_x</th>\n",
              "      <th>embedding_y</th>\n",
              "    </tr>\n",
              "  </thead>\n",
              "  <tbody>\n",
              "    <tr>\n",
              "      <th>0</th>\n",
              "      <td>4.582253</td>\n",
              "      <td>18.303787</td>\n",
              "    </tr>\n",
              "    <tr>\n",
              "      <th>1</th>\n",
              "      <td>4.189081</td>\n",
              "      <td>13.990575</td>\n",
              "    </tr>\n",
              "    <tr>\n",
              "      <th>2</th>\n",
              "      <td>4.242920</td>\n",
              "      <td>18.485781</td>\n",
              "    </tr>\n",
              "    <tr>\n",
              "      <th>3</th>\n",
              "      <td>13.035638</td>\n",
              "      <td>-9.498940</td>\n",
              "    </tr>\n",
              "    <tr>\n",
              "      <th>4</th>\n",
              "      <td>20.575422</td>\n",
              "      <td>6.260707</td>\n",
              "    </tr>\n",
              "  </tbody>\n",
              "</table>\n",
              "</div>"
            ],
            "text/plain": [
              "   embedding_x  embedding_y\n",
              "0     4.582253    18.303787\n",
              "1     4.189081    13.990575\n",
              "2     4.242920    18.485781\n",
              "3    13.035638    -9.498940\n",
              "4    20.575422     6.260707"
            ]
          },
          "execution_count": 56,
          "metadata": {},
          "output_type": "execute_result"
        }
      ],
      "source": [
        "df6.head()"
      ]
    },
    {
      "cell_type": "markdown",
      "metadata": {
        "id": "hokSlBMTVIiJ"
      },
      "source": [
        "# 7.0 HYPERPARAMETER FINE-TUNNING\n",
        "\n",
        "\n",
        "\n"
      ]
    },
    {
      "cell_type": "code",
      "execution_count": 57,
      "metadata": {
        "id": "V91LjQoWVIiK"
      },
      "outputs": [],
      "source": [
        "df7 = df6.copy()"
      ]
    },
    {
      "cell_type": "code",
      "execution_count": 58,
      "metadata": {
        "id": "dzt-9PQTeOi6"
      },
      "outputs": [],
      "source": [
        "X = df7.copy()"
      ]
    },
    {
      "cell_type": "code",
      "execution_count": 59,
      "metadata": {
        "colab": {
          "base_uri": "https://localhost:8080/",
          "height": 206
        },
        "id": "k7gixWSBMqjW",
        "outputId": "d5981328-81e4-48cc-bb9c-8dc0b1dce311"
      },
      "outputs": [
        {
          "data": {
            "text/html": [
              "<div>\n",
              "<style scoped>\n",
              "    .dataframe tbody tr th:only-of-type {\n",
              "        vertical-align: middle;\n",
              "    }\n",
              "\n",
              "    .dataframe tbody tr th {\n",
              "        vertical-align: top;\n",
              "    }\n",
              "\n",
              "    .dataframe thead th {\n",
              "        text-align: right;\n",
              "    }\n",
              "</style>\n",
              "<table border=\"1\" class=\"dataframe\">\n",
              "  <thead>\n",
              "    <tr style=\"text-align: right;\">\n",
              "      <th></th>\n",
              "      <th>embedding_x</th>\n",
              "      <th>embedding_y</th>\n",
              "    </tr>\n",
              "  </thead>\n",
              "  <tbody>\n",
              "    <tr>\n",
              "      <th>0</th>\n",
              "      <td>4.582253</td>\n",
              "      <td>18.303787</td>\n",
              "    </tr>\n",
              "    <tr>\n",
              "      <th>1</th>\n",
              "      <td>4.189081</td>\n",
              "      <td>13.990575</td>\n",
              "    </tr>\n",
              "    <tr>\n",
              "      <th>2</th>\n",
              "      <td>4.242920</td>\n",
              "      <td>18.485781</td>\n",
              "    </tr>\n",
              "    <tr>\n",
              "      <th>3</th>\n",
              "      <td>13.035638</td>\n",
              "      <td>-9.498940</td>\n",
              "    </tr>\n",
              "    <tr>\n",
              "      <th>4</th>\n",
              "      <td>20.575422</td>\n",
              "      <td>6.260707</td>\n",
              "    </tr>\n",
              "  </tbody>\n",
              "</table>\n",
              "</div>"
            ],
            "text/plain": [
              "   embedding_x  embedding_y\n",
              "0     4.582253    18.303787\n",
              "1     4.189081    13.990575\n",
              "2     4.242920    18.485781\n",
              "3    13.035638    -9.498940\n",
              "4    20.575422     6.260707"
            ]
          },
          "execution_count": 59,
          "metadata": {},
          "output_type": "execute_result"
        }
      ],
      "source": [
        "X.head()"
      ]
    },
    {
      "cell_type": "markdown",
      "metadata": {
        "id": "KdFIJTCiVIiK"
      },
      "source": [
        "# 8.0 MODEL TRAINING"
      ]
    },
    {
      "cell_type": "code",
      "execution_count": 60,
      "metadata": {
        "id": "vCrlONctVIiK"
      },
      "outputs": [],
      "source": [
        "k = 10\n",
        "\n",
        "#Model definition\n",
        "kmeans_model = KMeans(n_clusters=k, n_init=300, \n",
        "                      random_state=42)\n",
        "\n",
        "#Model Training\n",
        "kmeans_model.fit(X)\n",
        "\n",
        "#Labeling\n",
        "labels = kmeans_model.labels_"
      ]
    },
    {
      "cell_type": "code",
      "execution_count": 61,
      "metadata": {
        "colab": {
          "base_uri": "https://localhost:8080/"
        },
        "id": "8Pca6ujC-eyF",
        "outputId": "ea96ae13-a374-4b31-8f69-b9f3d7ad456a"
      },
      "outputs": [
        {
          "name": "stdout",
          "output_type": "stream",
          "text": [
            "WSS value: 51268.6484375\n",
            "Silhouette Score: 0.5422177910804749\n"
          ]
        }
      ],
      "source": [
        "#WSS (Within-Cluster Sum of Square)\n",
        "print(f'WSS value: {kmeans_model.inertia_}')\n",
        "\n",
        "#SS (Silhouette Score)\n",
        "print(f'Silhouette Score: {silhouette_score(X, labels)}')"
      ]
    },
    {
      "cell_type": "markdown",
      "metadata": {
        "id": "XIt9v9EkVIiK"
      },
      "source": [
        "# 9.0 CLUSTER ANALYSIS"
      ]
    },
    {
      "cell_type": "code",
      "execution_count": 62,
      "metadata": {
        "id": "O0dr9-01VIiK"
      },
      "outputs": [],
      "source": [
        "df9 = X.copy()"
      ]
    },
    {
      "cell_type": "markdown",
      "metadata": {
        "id": "0FCToxtXDZYN"
      },
      "source": [
        "## 9.1  Visualization Inspection"
      ]
    },
    {
      "cell_type": "code",
      "execution_count": 63,
      "metadata": {
        "colab": {
          "base_uri": "https://localhost:8080/",
          "height": 206
        },
        "id": "FX2DwWhOCk3G",
        "outputId": "2e26b6dd-797e-483c-c6a3-861634957bb0"
      },
      "outputs": [
        {
          "data": {
            "text/html": [
              "<div>\n",
              "<style scoped>\n",
              "    .dataframe tbody tr th:only-of-type {\n",
              "        vertical-align: middle;\n",
              "    }\n",
              "\n",
              "    .dataframe tbody tr th {\n",
              "        vertical-align: top;\n",
              "    }\n",
              "\n",
              "    .dataframe thead th {\n",
              "        text-align: right;\n",
              "    }\n",
              "</style>\n",
              "<table border=\"1\" class=\"dataframe\">\n",
              "  <thead>\n",
              "    <tr style=\"text-align: right;\">\n",
              "      <th></th>\n",
              "      <th>embedding_x</th>\n",
              "      <th>embedding_y</th>\n",
              "      <th>cluster</th>\n",
              "    </tr>\n",
              "  </thead>\n",
              "  <tbody>\n",
              "    <tr>\n",
              "      <th>0</th>\n",
              "      <td>4.582253</td>\n",
              "      <td>18.303787</td>\n",
              "      <td>3</td>\n",
              "    </tr>\n",
              "    <tr>\n",
              "      <th>1</th>\n",
              "      <td>4.189081</td>\n",
              "      <td>13.990575</td>\n",
              "      <td>7</td>\n",
              "    </tr>\n",
              "    <tr>\n",
              "      <th>2</th>\n",
              "      <td>4.242920</td>\n",
              "      <td>18.485781</td>\n",
              "      <td>3</td>\n",
              "    </tr>\n",
              "    <tr>\n",
              "      <th>3</th>\n",
              "      <td>13.035638</td>\n",
              "      <td>-9.498940</td>\n",
              "      <td>4</td>\n",
              "    </tr>\n",
              "    <tr>\n",
              "      <th>4</th>\n",
              "      <td>20.575422</td>\n",
              "      <td>6.260707</td>\n",
              "      <td>1</td>\n",
              "    </tr>\n",
              "  </tbody>\n",
              "</table>\n",
              "</div>"
            ],
            "text/plain": [
              "   embedding_x  embedding_y  cluster\n",
              "0     4.582253    18.303787        3\n",
              "1     4.189081    13.990575        7\n",
              "2     4.242920    18.485781        3\n",
              "3    13.035638    -9.498940        4\n",
              "4    20.575422     6.260707        1"
            ]
          },
          "execution_count": 63,
          "metadata": {},
          "output_type": "execute_result"
        }
      ],
      "source": [
        "df9['cluster'] = labels\n",
        "df9.head()"
      ]
    },
    {
      "cell_type": "code",
      "execution_count": 64,
      "metadata": {
        "id": "uqyfthXvR-oh"
      },
      "outputs": [],
      "source": [
        "df_viz = df9.copy()"
      ]
    },
    {
      "cell_type": "code",
      "execution_count": 65,
      "metadata": {
        "colab": {
          "base_uri": "https://localhost:8080/",
          "height": 747
        },
        "id": "Y6QkVvK11rsV",
        "outputId": "c1a6e20f-718a-4817-ace8-d6722e613c22"
      },
      "outputs": [
        {
          "data": {
            "image/png": "[encoded data removed]",
            "text/plain": [
              "<Figure size 2500x1200 with 1 Axes>"
            ]
          },
          "metadata": {},
          "output_type": "display_data"
        }
      ],
      "source": [
        "sns.scatterplot(x= 'embedding_x', y= 'embedding_y',\n",
        "                hue='cluster',\n",
        "                palette= sns.color_palette('hls', n_colors=len(df_viz['cluster'].unique())),\n",
        "                data=df_viz);"
      ]
    },
    {
      "cell_type": "markdown",
      "metadata": {
        "id": "2x5mRu0xDWnU"
      },
      "source": [
        "## 9.2 Cluster Profile"
      ]
    },
    {
      "cell_type": "code",
      "execution_count": 66,
      "metadata": {},
      "outputs": [
        {
          "data": {
            "text/html": [
              "<div>\n",
              "<style scoped>\n",
              "    .dataframe tbody tr th:only-of-type {\n",
              "        vertical-align: middle;\n",
              "    }\n",
              "\n",
              "    .dataframe tbody tr th {\n",
              "        vertical-align: top;\n",
              "    }\n",
              "\n",
              "    .dataframe thead th {\n",
              "        text-align: right;\n",
              "    }\n",
              "</style>\n",
              "<table border=\"1\" class=\"dataframe\">\n",
              "  <thead>\n",
              "    <tr style=\"text-align: right;\">\n",
              "      <th></th>\n",
              "      <th>customer_id</th>\n",
              "      <th>revenue</th>\n",
              "      <th>recency</th>\n",
              "      <th>distinct_stock_code</th>\n",
              "      <th>basket_size</th>\n",
              "      <th>returned</th>\n",
              "      <th>cluster</th>\n",
              "    </tr>\n",
              "  </thead>\n",
              "  <tbody>\n",
              "    <tr>\n",
              "      <th>0</th>\n",
              "      <td>17850</td>\n",
              "      <td>5391.21</td>\n",
              "      <td>372.0</td>\n",
              "      <td>297.0</td>\n",
              "      <td>50.970588</td>\n",
              "      <td>40.0</td>\n",
              "      <td>3</td>\n",
              "    </tr>\n",
              "    <tr>\n",
              "      <th>1</th>\n",
              "      <td>13047</td>\n",
              "      <td>3232.59</td>\n",
              "      <td>56.0</td>\n",
              "      <td>171.0</td>\n",
              "      <td>154.444444</td>\n",
              "      <td>35.0</td>\n",
              "      <td>7</td>\n",
              "    </tr>\n",
              "    <tr>\n",
              "      <th>2</th>\n",
              "      <td>12583</td>\n",
              "      <td>6705.38</td>\n",
              "      <td>2.0</td>\n",
              "      <td>232.0</td>\n",
              "      <td>335.200000</td>\n",
              "      <td>50.0</td>\n",
              "      <td>3</td>\n",
              "    </tr>\n",
              "    <tr>\n",
              "      <th>3</th>\n",
              "      <td>13748</td>\n",
              "      <td>948.25</td>\n",
              "      <td>95.0</td>\n",
              "      <td>28.0</td>\n",
              "      <td>87.800000</td>\n",
              "      <td>0.0</td>\n",
              "      <td>4</td>\n",
              "    </tr>\n",
              "    <tr>\n",
              "      <th>4</th>\n",
              "      <td>15100</td>\n",
              "      <td>876.00</td>\n",
              "      <td>333.0</td>\n",
              "      <td>3.0</td>\n",
              "      <td>26.666667</td>\n",
              "      <td>22.0</td>\n",
              "      <td>1</td>\n",
              "    </tr>\n",
              "  </tbody>\n",
              "</table>\n",
              "</div>"
            ],
            "text/plain": [
              "   customer_id  revenue  recency  distinct_stock_code  basket_size  returned  cluster\n",
              "0        17850  5391.21    372.0                297.0    50.970588      40.0        3\n",
              "1        13047  3232.59     56.0                171.0   154.444444      35.0        7\n",
              "2        12583  6705.38      2.0                232.0   335.200000      50.0        3\n",
              "3        13748   948.25     95.0                 28.0    87.800000       0.0        4\n",
              "4        15100   876.00    333.0                  3.0    26.666667      22.0        1"
            ]
          },
          "execution_count": 66,
          "metadata": {},
          "output_type": "execute_result"
        }
      ],
      "source": [
        "df9_embed = df4.copy().drop(columns=columns, axis=1)\n",
        "df9_embed['cluster'] = labels\n",
        "df9_embed.head()"
      ]
    },
    {
      "cell_type": "code",
      "execution_count": 67,
      "metadata": {
        "colab": {
          "base_uri": "https://localhost:8080/",
          "height": 143
        },
        "id": "Xt3C4mBtDVfh",
        "outputId": "8802ad1d-163b-4c4a-8482-8d8f627a8e6d"
      },
      "outputs": [
        {
          "data": {
            "text/html": [
              "<div>\n",
              "<style scoped>\n",
              "    .dataframe tbody tr th:only-of-type {\n",
              "        vertical-align: middle;\n",
              "    }\n",
              "\n",
              "    .dataframe tbody tr th {\n",
              "        vertical-align: top;\n",
              "    }\n",
              "\n",
              "    .dataframe thead th {\n",
              "        text-align: right;\n",
              "    }\n",
              "</style>\n",
              "<table border=\"1\" class=\"dataframe\">\n",
              "  <thead>\n",
              "    <tr style=\"text-align: right;\">\n",
              "      <th></th>\n",
              "      <th>cluster</th>\n",
              "      <th>total_customers</th>\n",
              "      <th>perc_customers</th>\n",
              "      <th>avg_revenue</th>\n",
              "      <th>avg_recency</th>\n",
              "      <th>avg_total_products</th>\n",
              "      <th>avg_basket_size</th>\n",
              "      <th>avg_returned_products</th>\n",
              "    </tr>\n",
              "  </thead>\n",
              "  <tbody>\n",
              "    <tr>\n",
              "      <th>3</th>\n",
              "      <td>3</td>\n",
              "      <td>507</td>\n",
              "      <td>8.904110</td>\n",
              "      <td>9054.376982</td>\n",
              "      <td>75.453649</td>\n",
              "      <td>441.883629</td>\n",
              "      <td>680.612320</td>\n",
              "      <td>137.844181</td>\n",
              "    </tr>\n",
              "    <tr>\n",
              "      <th>7</th>\n",
              "      <td>7</td>\n",
              "      <td>605</td>\n",
              "      <td>10.625220</td>\n",
              "      <td>2583.960264</td>\n",
              "      <td>64.426446</td>\n",
              "      <td>174.876033</td>\n",
              "      <td>337.971965</td>\n",
              "      <td>16.847934</td>\n",
              "    </tr>\n",
              "    <tr>\n",
              "      <th>8</th>\n",
              "      <td>8</td>\n",
              "      <td>600</td>\n",
              "      <td>10.537408</td>\n",
              "      <td>1724.837317</td>\n",
              "      <td>85.935000</td>\n",
              "      <td>76.018333</td>\n",
              "      <td>397.209676</td>\n",
              "      <td>10.180000</td>\n",
              "    </tr>\n",
              "    <tr>\n",
              "      <th>2</th>\n",
              "      <td>2</td>\n",
              "      <td>450</td>\n",
              "      <td>7.903056</td>\n",
              "      <td>1372.473956</td>\n",
              "      <td>119.402222</td>\n",
              "      <td>134.400000</td>\n",
              "      <td>250.878185</td>\n",
              "      <td>7.613333</td>\n",
              "    </tr>\n",
              "    <tr>\n",
              "      <th>4</th>\n",
              "      <td>4</td>\n",
              "      <td>730</td>\n",
              "      <td>12.820513</td>\n",
              "      <td>1232.895562</td>\n",
              "      <td>109.917808</td>\n",
              "      <td>41.582192</td>\n",
              "      <td>177.524132</td>\n",
              "      <td>5.205479</td>\n",
              "    </tr>\n",
              "    <tr>\n",
              "      <th>0</th>\n",
              "      <td>0</td>\n",
              "      <td>763</td>\n",
              "      <td>13.400070</td>\n",
              "      <td>969.792674</td>\n",
              "      <td>106.783748</td>\n",
              "      <td>50.808650</td>\n",
              "      <td>232.561988</td>\n",
              "      <td>5.542595</td>\n",
              "    </tr>\n",
              "    <tr>\n",
              "      <th>5</th>\n",
              "      <td>5</td>\n",
              "      <td>332</td>\n",
              "      <td>5.830699</td>\n",
              "      <td>708.530633</td>\n",
              "      <td>137.111446</td>\n",
              "      <td>18.783133</td>\n",
              "      <td>249.462161</td>\n",
              "      <td>14.099398</td>\n",
              "    </tr>\n",
              "    <tr>\n",
              "      <th>1</th>\n",
              "      <td>1</td>\n",
              "      <td>816</td>\n",
              "      <td>14.330875</td>\n",
              "      <td>321.068958</td>\n",
              "      <td>146.665441</td>\n",
              "      <td>13.034314</td>\n",
              "      <td>121.680929</td>\n",
              "      <td>1.725490</td>\n",
              "    </tr>\n",
              "    <tr>\n",
              "      <th>6</th>\n",
              "      <td>6</td>\n",
              "      <td>718</td>\n",
              "      <td>12.609765</td>\n",
              "      <td>113.875320</td>\n",
              "      <td>173.440111</td>\n",
              "      <td>7.225627</td>\n",
              "      <td>27.490935</td>\n",
              "      <td>0.169916</td>\n",
              "    </tr>\n",
              "    <tr>\n",
              "      <th>9</th>\n",
              "      <td>9</td>\n",
              "      <td>173</td>\n",
              "      <td>3.038286</td>\n",
              "      <td>10.390173</td>\n",
              "      <td>182.716763</td>\n",
              "      <td>1.364162</td>\n",
              "      <td>1.705202</td>\n",
              "      <td>0.023121</td>\n",
              "    </tr>\n",
              "  </tbody>\n",
              "</table>\n",
              "</div>"
            ],
            "text/plain": [
              "   cluster  total_customers  perc_customers  avg_revenue  avg_recency  avg_total_products  avg_basket_size  avg_returned_products\n",
              "3        3              507        8.904110  9054.376982    75.453649          441.883629       680.612320             137.844181\n",
              "7        7              605       10.625220  2583.960264    64.426446          174.876033       337.971965              16.847934\n",
              "8        8              600       10.537408  1724.837317    85.935000           76.018333       397.209676              10.180000\n",
              "2        2              450        7.903056  1372.473956   119.402222          134.400000       250.878185               7.613333\n",
              "4        4              730       12.820513  1232.895562   109.917808           41.582192       177.524132               5.205479\n",
              "0        0              763       13.400070   969.792674   106.783748           50.808650       232.561988               5.542595\n",
              "5        5              332        5.830699   708.530633   137.111446           18.783133       249.462161              14.099398\n",
              "1        1              816       14.330875   321.068958   146.665441           13.034314       121.680929               1.725490\n",
              "6        6              718       12.609765   113.875320   173.440111            7.225627        27.490935               0.169916\n",
              "9        9              173        3.038286    10.390173   182.716763            1.364162         1.705202               0.023121"
            ]
          },
          "execution_count": 67,
          "metadata": {},
          "output_type": "execute_result"
        }
      ],
      "source": [
        "#Number of Customers\n",
        "df_customer = df9_embed[['customer_id', 'cluster']].groupby('cluster').count().reset_index()\n",
        "df_customer = df_customer.rename(columns={'customer_id': 'total_customers'})\n",
        "df_customer['perc_customers'] = 100*(df_customer['total_customers']/df_customer['total_customers'].sum())\n",
        "\n",
        "#Avg Revenue\n",
        "df_revenue = df9_embed[['cluster', 'revenue']].groupby('cluster').mean().reset_index()\n",
        "df_revenue = df_revenue.rename(columns={'revenue': 'avg_revenue'})\n",
        "\n",
        "#Avg Recency\n",
        "df_recency = df9_embed[['cluster', 'recency']].groupby('cluster').mean().reset_index()\n",
        "df_recency = df_recency.rename(columns={'recency': 'avg_recency'})\n",
        "\n",
        "#Avg Distinct Products\n",
        "df_total_products = df9_embed[['cluster', 'distinct_stock_code']].groupby('cluster').mean().reset_index()\n",
        "df_total_products = df_total_products.rename(columns={'distinct_stock_code': 'avg_total_products'})\n",
        "\n",
        "#Avg Basket Size\n",
        "df_basket_size = df9_embed[['cluster', 'basket_size']].groupby('cluster').mean().reset_index()\n",
        "df_basket_size = df_basket_size.rename(columns={'basket_size': 'avg_basket_size'})\n",
        "\n",
        "#Avg Returned Products\n",
        "df_returned = df9_embed[['cluster', 'returned']].groupby('cluster').mean().reset_index()\n",
        "df_returned = df_returned.rename(columns={'returned': 'avg_returned_products'})\n",
        "\n",
        "\n",
        "df_profile = pd.merge(df_customer, df_revenue, how='left', on='cluster')\n",
        "df_profile = pd.merge(df_profile, df_recency, how='left', on='cluster')\n",
        "df_profile = pd.merge(df_profile, df_total_products, how='left', on='cluster')\n",
        "df_profile = pd.merge(df_profile, df_basket_size, how='left', on='cluster')\n",
        "df_profile = pd.merge(df_profile, df_returned, how='left', on='cluster')\n",
        "\n",
        "df_profile.sort_values('avg_revenue', ascending=False)"
      ]
    },
    {
      "cell_type": "markdown",
      "metadata": {
        "id": "9hhtuzMT0u-H"
      },
      "source": [
        "## 9.3 Cluster Description"
      ]
    },
    {
      "cell_type": "markdown",
      "metadata": {
        "id": "z-i0fDVMVaT-"
      },
      "source": [
        "### 9.3.2 Data Space: Embedded Space - Tree Based Organization\n",
        "\n",
        "*   O espaço de Embedding pode ser utilizado caso exista a necessidade da obtenção de um número maior de clusters, viabilizada por uma maior separação quando em comparação ao espaço de features.\n",
        "*   O Trade off, no entanto, é que perde-se a explicabilidade da correlação entra as features aplicadas ao modelo."
      ]
    },
    {
      "cell_type": "markdown",
      "metadata": {},
      "source": [
        "### Análise dos Clusters:\n",
        "\n",
        "### Cluster 03 (Insiders 01 -> Highest Revenue Cluster):\n",
        "\n",
        "*   Total Number of Customers = 507 Clients (8.91% of the database)\n",
        "*   Average Recency = 76 Days\n",
        "*   Average number of distinct products bought  = 442 distinct products bought per client\n",
        "*   Average Revenue = $9054.38 per client\n",
        "*   **OBS**: Cluster containing the best metrics for most of the variable on the Insiders group (Highest revenue, product variety, basket size); however, look after reducing the 'returned_prodcuts' value.\n",
        "\n",
        "### Cluster 07 (Insiders 02 ->  B Revenue Insiders) :\n",
        "\n",
        "*   Total Number of Customers = 605 Clients (10.63% of the database)\n",
        "*   Average Recency = 65 Days\n",
        "*   Average Number of Distinct Products Bought  = 175 distinct products bought per client\n",
        "*   Average Revenue = $2583.96 per client\n",
        "*   **OBS**: Look after improving the revenue, by offering cross-sell with higher price tagged products.\n",
        "\n",
        "### Cluster 08 (Insiders 03 -> Improve Product Variety Insiders):\n",
        "\n",
        "*   Total Number of Customers = 600 Clients (10.54% of the database)\n",
        "*   Average Recency = 86 Days\n",
        "*   Average Number of Distinct Products Bought  = 77 distinct products bought per client\n",
        "*   Average Revenue = $1724.84 per client\n",
        "*   **OBS**: Look after improving the variety of products bought by clients on this cluster (Worst among the insiders, even while having 2nd best basket size).\n",
        "\n",
        "### Cluster 02 (Insiders 04 -> Low Recency Insiders):\n",
        "\n",
        "*   Total Number of Customers = 450 Clients (7.90% of the database)\n",
        "*   Average Recency = 120 Days\n",
        "*   Average Number of Distinct Products Bought  = 135 distinct products bought per client\n",
        "*   Average Revenue = $1372.48 per Client\n",
        "*   **OBS**: Look after improving the this cluster clients recency; get them to return at least once for every 90 days period (3 months).\n",
        "\n",
        "### Cluster 04 (Viability Analysis for Insiders 01 -> Poor Variety Cluster):\n",
        "\n",
        "*   Total Number of Customers = 730 Clients (12.82% of the database)\n",
        "*   Average Recency = 110 Days\n",
        "*   Average Number of Distinct Products Bought  = 42 distinct products bought per client\n",
        "*   Average Revenue = $1232.90 per client\n",
        "*   **OBS**: Worst Recency amongst the possible clusters selected to be part of Insiders.\n",
        "\n",
        "### Cluster 00 (Viability Analysis for Insiders 02 -> Low Price Buyers):\n",
        "\n",
        "*   Total Number of Customers = 763 Clients (13.40% of the database)\n",
        "*   Average Recency = 107 Days\n",
        "*   Average Number of Distinct Products Bought  = 51 distinct products bought per client\n",
        "*   Average Revenue = $969.79 per client\n",
        "*   **OBS**: Cluster with fairly best metrics than cluster 04 (Poor Variety Cluster), however, its average revenue is lower, indicating the need to make these clients to buy higher priced products.\n",
        "\n",
        "### Cluster 05 (Not Insiders 01 -> Same product Buyers A):\n",
        "\n",
        "*   Total Number of Customers = 332 Clients (5.84% of the database)\n",
        "*   Average Recency = 138 Days\n",
        "*   Average Number of Distinct Products Bought  = 19 distinct products bought per client\n",
        "*   Average Revenue = $708.53 per client\n",
        "*   **OBS**: Even tho the basket size is fairly great, this cluster a very poor variety of products bought.\n",
        "\n",
        "### Cluster 01 (Not Insiders 02 -> Same Product Buyers B):\n",
        "\n",
        "*   Total Number of Customers = 816 Clients (14.33% of the database)\n",
        "*   Average Recency = 147 Days\n",
        "*   Average Number of Distinct Products Bought  = 13 distinct products bought per client\n",
        "*   Average Revenue = $321.07 per client\n",
        "*   **OBS**:  Even tho the basket size is fairly great, this cluster a very poor variety of products bought.\n",
        "\n",
        "### Cluster 06 (Not Insiders 03 -> Intermitent Buyers):\n",
        "\n",
        "*   Total Number of Customers = 718 Clients (12.61% of the database)\n",
        "*   Average Recency = 174 Days\n",
        "*   Average Number of Distinct Products Bought  = 8 distinct products bought per client\n",
        "*   Average Revenue = $113.86 per client\n",
        "*   **OBS**: Clients with very high recency and low basket size.\n",
        "\n",
        "### Cluster 05 (Not Insiders 04 -> Ocasional Buyers):\n",
        "\n",
        "*   Total Number of Customers = 173 Clients (3.04% of the database)\n",
        "*   Average Recency = 183 Days\n",
        "*   Average Number of Distinct Products Bought  = 2 distinct products bought per client\n",
        "*   Average Revenue = $10.39 per client\n",
        "*   **OBS**: High Seasonal clients, that presents overall few and low cost buys.\n"
      ]
    },
    {
      "cell_type": "markdown",
      "metadata": {
        "id": "5Kvf6RHW0nng"
      },
      "source": [
        "#   11.0 DEPLOY TO PRODUCTION"
      ]
    },
    {
      "cell_type": "code",
      "execution_count": 68,
      "metadata": {},
      "outputs": [],
      "source": [
        "df9_embed['recency'] = df9_embed['recency'].astype(int64)\n",
        "df9_embed['distinct_stock_code'] = df9_embed['distinct_stock_code'].astype(int64)\n",
        "df9_embed['returned'] = df9_embed['returned'].astype(int64)"
      ]
    },
    {
      "cell_type": "code",
      "execution_count": 69,
      "metadata": {},
      "outputs": [],
      "source": [
        "username = os.environ.get('USER_INSIDERS')\n",
        "pwd = os.environ.get('PWD_INSIDERS')\n",
        "host = os.environ.get('HOST_INSIDERS')\n",
        "database = os.environ.get('DATABASE_INSIDERS')\n",
        "port = os.environ.get('PORT_INSIDERS')\n",
        "\n",
        "#endpoint_local = 'sqlite:///../datasets/insiders_db.sqlite'\n",
        "endpoint_deploy = f'postgresql://{username}:{pwd}@{host}:{port}/{database}'\n",
        "\n",
        "engine = create_engine(endpoint_deploy)"
      ]
    },
    {
      "cell_type": "code",
      "execution_count": 70,
      "metadata": {},
      "outputs": [],
      "source": [
        "#drop table\n",
        "query_drop_table = \"\"\" \n",
        "    DROP TABLE insiders\n",
        "    \"\"\"\n",
        "\n",
        "with engine.connect() as conn:\n",
        "    conn.execute(query_drop_table)"
      ]
    },
    {
      "cell_type": "code",
      "execution_count": 71,
      "metadata": {},
      "outputs": [],
      "source": [
        "def insert_into_db(con, customer_id, revenue, recency, \n",
        "                   distinct_stock_code, basket_size, returned, cluster):\n",
        "    row_to_insert = (customer_id, revenue, recency, distinct_stock_code,\n",
        "                     basket_size, returned, cluster)\n",
        "    con.execute(query_insert_data, row_to_insert)        \n",
        "        "
      ]
    },
    {
      "cell_type": "code",
      "execution_count": 72,
      "metadata": {},
      "outputs": [],
      "source": [
        "#create table\n",
        "query_create_table = \"\"\" \n",
        "    CREATE TABLE insiders(\n",
        "        customer_id         INTEGER,\n",
        "        revenue             REAL,\n",
        "        recency             INTEGER,\n",
        "        distinct_stock_code INTEGER,\n",
        "        basket_size         REAL,\n",
        "        returned            INTEGER,\n",
        "        cluster             INTEGER\n",
        "    )\n",
        "\"\"\"\n",
        "\n",
        "# get query\n",
        "query_collect = \"\"\"\n",
        "    SELECT * FROM insiders\n",
        "\"\"\"\n",
        "\n",
        "#Insert Data\n",
        "query_insert_data = \"\"\"\n",
        "    INSERT INTO insiders( customer_id, revenue, recency, \n",
        "    distinct_stock_code, basket_size, returned, cluster)\n",
        "    VALUES (%s, %s, %s, %s, %s, %s, %s);\n",
        "\"\"\"\n",
        "\n",
        "with engine.connect() as conn:\n",
        "    conn.execute(query_create_table)\n",
        "\n",
        "    for i, row in df9_embed.iterrows():\n",
        "        insert_into_db(conn, row['customer_id'], row['revenue'], row['recency'],\n",
        "                       row['distinct_stock_code'], row['basket_size'], row['returned'],\n",
        "                       row['cluster'])"
      ]
    },
    {
      "cell_type": "code",
      "execution_count": 73,
      "metadata": {},
      "outputs": [],
      "source": [
        "with engine.connect() as conn:\n",
        "\n",
        "    df_query = pd.read_sql(query_collect, conn.connection) "
      ]
    },
    {
      "cell_type": "code",
      "execution_count": 74,
      "metadata": {},
      "outputs": [
        {
          "data": {
            "text/plain": [
              "(5694, 7)"
            ]
          },
          "execution_count": 74,
          "metadata": {},
          "output_type": "execute_result"
        }
      ],
      "source": [
        "df9_embed.shape"
      ]
    },
    {
      "cell_type": "code",
      "execution_count": 75,
      "metadata": {},
      "outputs": [
        {
          "data": {
            "text/plain": [
              "(5694, 7)"
            ]
          },
          "execution_count": 75,
          "metadata": {},
          "output_type": "execute_result"
        }
      ],
      "source": [
        "df_query.shape"
      ]
    },
    {
      "cell_type": "code",
      "execution_count": 78,
      "metadata": {},
      "outputs": [
        {
          "data": {
            "text/html": [
              "<div>\n",
              "<style scoped>\n",
              "    .dataframe tbody tr th:only-of-type {\n",
              "        vertical-align: middle;\n",
              "    }\n",
              "\n",
              "    .dataframe tbody tr th {\n",
              "        vertical-align: top;\n",
              "    }\n",
              "\n",
              "    .dataframe thead th {\n",
              "        text-align: right;\n",
              "    }\n",
              "</style>\n",
              "<table border=\"1\" class=\"dataframe\">\n",
              "  <thead>\n",
              "    <tr style=\"text-align: right;\">\n",
              "      <th></th>\n",
              "      <th>customer_id</th>\n",
              "      <th>revenue</th>\n",
              "      <th>recency</th>\n",
              "      <th>distinct_stock_code</th>\n",
              "      <th>basket_size</th>\n",
              "      <th>returned</th>\n",
              "      <th>cluster</th>\n",
              "    </tr>\n",
              "  </thead>\n",
              "  <tbody>\n",
              "    <tr>\n",
              "      <th>5780</th>\n",
              "      <td>22706</td>\n",
              "      <td>5699.00</td>\n",
              "      <td>1</td>\n",
              "      <td>634</td>\n",
              "      <td>1747.0</td>\n",
              "      <td>0</td>\n",
              "      <td>3</td>\n",
              "    </tr>\n",
              "    <tr>\n",
              "      <th>5781</th>\n",
              "      <td>22707</td>\n",
              "      <td>6756.06</td>\n",
              "      <td>0</td>\n",
              "      <td>730</td>\n",
              "      <td>2010.0</td>\n",
              "      <td>0</td>\n",
              "      <td>4</td>\n",
              "    </tr>\n",
              "    <tr>\n",
              "      <th>5782</th>\n",
              "      <td>22708</td>\n",
              "      <td>3217.20</td>\n",
              "      <td>0</td>\n",
              "      <td>59</td>\n",
              "      <td>654.0</td>\n",
              "      <td>0</td>\n",
              "      <td>4</td>\n",
              "    </tr>\n",
              "    <tr>\n",
              "      <th>5783</th>\n",
              "      <td>22709</td>\n",
              "      <td>3950.72</td>\n",
              "      <td>0</td>\n",
              "      <td>217</td>\n",
              "      <td>731.0</td>\n",
              "      <td>0</td>\n",
              "      <td>4</td>\n",
              "    </tr>\n",
              "    <tr>\n",
              "      <th>5784</th>\n",
              "      <td>12713</td>\n",
              "      <td>794.55</td>\n",
              "      <td>0</td>\n",
              "      <td>37</td>\n",
              "      <td>505.0</td>\n",
              "      <td>0</td>\n",
              "      <td>4</td>\n",
              "    </tr>\n",
              "  </tbody>\n",
              "</table>\n",
              "</div>"
            ],
            "text/plain": [
              "      customer_id  revenue  recency  distinct_stock_code  basket_size  returned  cluster\n",
              "5780        22706  5699.00        1                  634       1747.0         0        3\n",
              "5781        22707  6756.06        0                  730       2010.0         0        4\n",
              "5782        22708  3217.20        0                   59        654.0         0        4\n",
              "5783        22709  3950.72        0                  217        731.0         0        4\n",
              "5784        12713   794.55        0                   37        505.0         0        4"
            ]
          },
          "execution_count": 78,
          "metadata": {},
          "output_type": "execute_result"
        }
      ],
      "source": [
        "df9_embed.tail()"
      ]
    },
    {
      "cell_type": "code",
      "execution_count": 79,
      "metadata": {},
      "outputs": [
        {
          "data": {
            "text/html": [
              "<div>\n",
              "<style scoped>\n",
              "    .dataframe tbody tr th:only-of-type {\n",
              "        vertical-align: middle;\n",
              "    }\n",
              "\n",
              "    .dataframe tbody tr th {\n",
              "        vertical-align: top;\n",
              "    }\n",
              "\n",
              "    .dataframe thead th {\n",
              "        text-align: right;\n",
              "    }\n",
              "</style>\n",
              "<table border=\"1\" class=\"dataframe\">\n",
              "  <thead>\n",
              "    <tr style=\"text-align: right;\">\n",
              "      <th></th>\n",
              "      <th>customer_id</th>\n",
              "      <th>revenue</th>\n",
              "      <th>recency</th>\n",
              "      <th>distinct_stock_code</th>\n",
              "      <th>basket_size</th>\n",
              "      <th>returned</th>\n",
              "      <th>cluster</th>\n",
              "    </tr>\n",
              "  </thead>\n",
              "  <tbody>\n",
              "    <tr>\n",
              "      <th>5689</th>\n",
              "      <td>22706</td>\n",
              "      <td>5699.00</td>\n",
              "      <td>1</td>\n",
              "      <td>634</td>\n",
              "      <td>1747.0</td>\n",
              "      <td>0</td>\n",
              "      <td>3</td>\n",
              "    </tr>\n",
              "    <tr>\n",
              "      <th>5690</th>\n",
              "      <td>22707</td>\n",
              "      <td>6756.06</td>\n",
              "      <td>0</td>\n",
              "      <td>730</td>\n",
              "      <td>2010.0</td>\n",
              "      <td>0</td>\n",
              "      <td>4</td>\n",
              "    </tr>\n",
              "    <tr>\n",
              "      <th>5691</th>\n",
              "      <td>22708</td>\n",
              "      <td>3217.20</td>\n",
              "      <td>0</td>\n",
              "      <td>59</td>\n",
              "      <td>654.0</td>\n",
              "      <td>0</td>\n",
              "      <td>4</td>\n",
              "    </tr>\n",
              "    <tr>\n",
              "      <th>5692</th>\n",
              "      <td>22709</td>\n",
              "      <td>3950.72</td>\n",
              "      <td>0</td>\n",
              "      <td>217</td>\n",
              "      <td>731.0</td>\n",
              "      <td>0</td>\n",
              "      <td>4</td>\n",
              "    </tr>\n",
              "    <tr>\n",
              "      <th>5693</th>\n",
              "      <td>12713</td>\n",
              "      <td>794.55</td>\n",
              "      <td>0</td>\n",
              "      <td>37</td>\n",
              "      <td>505.0</td>\n",
              "      <td>0</td>\n",
              "      <td>4</td>\n",
              "    </tr>\n",
              "  </tbody>\n",
              "</table>\n",
              "</div>"
            ],
            "text/plain": [
              "      customer_id  revenue  recency  distinct_stock_code  basket_size  returned  cluster\n",
              "5689        22706  5699.00        1                  634       1747.0         0        3\n",
              "5690        22707  6756.06        0                  730       2010.0         0        4\n",
              "5691        22708  3217.20        0                   59        654.0         0        4\n",
              "5692        22709  3950.72        0                  217        731.0         0        4\n",
              "5693        12713   794.55        0                   37        505.0         0        4"
            ]
          },
          "execution_count": 79,
          "metadata": {},
          "output_type": "execute_result"
        }
      ],
      "source": [
        "df_query.tail()"
      ]
    }
  ],
  "metadata": {
    "colab": {
      "collapsed_sections": [
        "QzbqtiCVVIhr",
        "PR1g3fhIDJCI",
        "ZMDZkqbdGoYC",
        "Yu_nqs2hHyxi",
        "4fQRqspcoPYW",
        "FV_-NYeOqdAw",
        "ZXMZTwDcqf0d",
        "shCSeCf9Nq1Q",
        "-uDfu7Q4pY_P",
        "vAYqyCJav5pA",
        "pBvmf9y9wEKe"
      ],
      "provenance": []
    },
    "kernelspec": {
      "display_name": "hackday_08",
      "language": "python",
      "name": "python3"
    },
    "language_info": {
      "codemirror_mode": {
        "name": "ipython",
        "version": 3
      },
      "file_extension": ".py",
      "mimetype": "text/x-python",
      "name": "python",
      "nbconvert_exporter": "python",
      "pygments_lexer": "ipython3",
      "version": "3.10.0"
    }
  },
  "nbformat": 4,
  "nbformat_minor": 0
}
